{
 "cells": [
  {
   "cell_type": "markdown",
   "metadata": {},
   "source": [
    "# Notebook to explore the BOLDMoments data\n",
    "\n",
    "**Data location:** /oliva/blahner/BOLDMoments/preprocessed_data/responses.\n",
    "\n",
    "Reminder that reconstruction should be done per subject. Subject 1 is good. \n",
    "To get started, use: ./sub01/testing/X_TRavg-56789testing.pkl, where X is either the ROI name or WB (whole brain). The contents of the pkl file is a dict with keys \"test_data\" and \"train_data\" with shapes (num_videos, num_repetitions, num_voxels). Feel free to average over repetitions. You can also find the metadata json file and video stimuli in /oliva/datasets/BOLDMoments/metadata.\n",
    "\n",
    "\n",
    "For time-resolved brain activity, use /sub01/testing/X_TRavg-Ytesting.pkl where Y is 5, 6, 7, 8, or 9. Don't worry about numbers 1-4. But I'd first start with the 56789avg to make sure we can get some reconstruction."
   ]
  },
  {
   "cell_type": "code",
   "execution_count": 1,
   "metadata": {},
   "outputs": [],
   "source": [
    "import sys\n",
    "import os\n",
    "import pickle as pkl"
   ]
  },
  {
   "cell_type": "code",
   "execution_count": null,
   "metadata": {},
   "outputs": [],
   "source": [
    "# Load pkl file with moments data\n",
    "\n",
    "with open(\"./sub01/testing/X_TRavg-56789testing.pkl\") as f:\n",
    "    pkl.load(f)"
   ]
  }
 ],
 "metadata": {
  "kernelspec": {
   "display_name": "Python 3",
   "language": "python",
   "name": "python3"
  },
  "language_info": {
   "codemirror_mode": {
    "name": "ipython",
    "version": 3
   },
   "file_extension": ".py",
   "mimetype": "text/x-python",
   "name": "python",
   "nbconvert_exporter": "python",
   "pygments_lexer": "ipython3",
   "version": "3.8.10"
  },
  "orig_nbformat": 4
 },
 "nbformat": 4,
 "nbformat_minor": 2
}

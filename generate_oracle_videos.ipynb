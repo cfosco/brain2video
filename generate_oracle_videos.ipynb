{
 "cells": [
  {
   "cell_type": "markdown",
   "metadata": {},
   "source": [
    "## Generate videos by prompting with ground truth captions\n",
    "Oracle baseline for BOLDMoments videos"
   ]
  },
  {
   "cell_type": "code",
   "execution_count": 1,
   "metadata": {},
   "outputs": [
    {
     "name": "stderr",
     "output_type": "stream",
     "text": [
      "/home/camilo/anaconda3/lib/python3.9/site-packages/scipy/__init__.py:155: UserWarning: A NumPy version >=1.18.5 and <1.25.0 is required for this version of SciPy (detected version 1.25.2\n",
      "  warnings.warn(f\"A NumPy version >={np_minversion} and <{np_maxversion}\"\n"
     ]
    }
   ],
   "source": [
    "# Imports\n",
    "import numpy as np\n",
    "import matplotlib.pyplot as plt\n",
    "import json\n",
    "import shutil\n",
    "import torch\n",
    "from diffusers import DiffusionPipeline, DPMSolverMultistepScheduler\n",
    "from diffusers.utils import export_to_video\n",
    "import os\n",
    "from utils import transform_vids_to_gifs, vid_to_gif, frames_to_vid\n",
    "\n",
    "%load_ext autoreload\n",
    "%autoreload 2\n"
   ]
  },
  {
   "cell_type": "markdown",
   "metadata": {},
   "source": [
    "### Load captions "
   ]
  },
  {
   "cell_type": "code",
   "execution_count": 2,
   "metadata": {},
   "outputs": [
    {
     "name": "stdout",
     "output_type": "stream",
     "text": [
      "annots['0001']: {'bmd_matrixfilename': 'vid_idx0001', 'MiT_url': 'https://data.csail.mit.edu/soundnet/actions3/wetting/0-0-1-6-7-2-8-0-17500167280.mp4', 'MiT_filename': 'wetting/0-0-1-6-7-2-8-0-17500167280.mp4', 'set': 'train', 'objects': ['red-breasted merganser', 'duck', 'American coot', 'goose', 'killer whale'], 'scenes': ['swimming hole', 'natural lake', 'watering hole', 'pond', 'ice floe'], 'actions': ['swimming', 'swimming', 'paddling', 'eating/feeding', 'swimming'], 'text_descriptions': ['A duck is swimming in a lake searching for food', 'A duck is floating atop the blue sparkly looking water.', 'A duck swims along in the water and pecks at the water.', 'A mallard is in the water alone swimming around and putting its beak in.', 'A duck swims in the daytime while pecking at the water.'], 'spoken_transcription': 'in a large mostly still body of water we see a duck swimming and pecking at the surface with his beak', 'memorability_score': 0.8147719988084737, 'memorability_decay': -0.00040570405564760616}\n"
     ]
    }
   ],
   "source": [
    "# Load captions\n",
    "annots = json.load(open('data/annotations.json', 'r')) # captions located in annots.values()[0]['text_descriptions']\n",
    "print(\"annots['0001']:\",annots['0001'])"
   ]
  },
  {
   "cell_type": "markdown",
   "metadata": {},
   "source": [
    "### Functions to generate videos"
   ]
  },
  {
   "cell_type": "code",
   "execution_count": null,
   "metadata": {},
   "outputs": [],
   "source": [
    "\n",
    "def generate_videos_from_annots_with_gradio_api(annots, start_from=0):\n",
    "    from gradio_client import Client\n",
    "\n",
    "    client = Client(\"https://fffiloni-zeroscope--x84m2.hf.space/\")\n",
    "    for i, a in annots.items():\n",
    "        if int(i) < start_from:\n",
    "            continue\n",
    "        for c in range(len(a['text_descriptions'])):\n",
    "            prompt = a['text_descriptions'][c]\n",
    "            print(prompt)\n",
    "            result = client.predict(\n",
    "                            prompt,\t# str in 'Prompt' Textbox component\n",
    "                            api_name=\"/zrscp\"\n",
    "            )\n",
    "\n",
    "            # Move video to correct folder\n",
    "            shutil.move(result, f'./oracle_gens/{i}_captionnumber{c}_{prompt}.mp4')\n",
    "\n",
    "            # Make gif\n",
    "            vid_to_gif(f'./oracle_gens/{i}_captionnumber{c}_{prompt}.mp4', f'./oracle_gens/{i}_captionnumber{c}_{prompt}.gif')\n",
    "            break\n",
    "\n",
    "def generate_videos_from_annots_with_local(annots, start_from=0):\n",
    "    pipe = DiffusionPipeline.from_pretrained(\"../zeroscope_v2_576w\", torch_dtype=torch.float16)\n",
    "    pipe.scheduler = DPMSolverMultistepScheduler.from_config(pipe.scheduler.config)\n",
    "    # pipe.enable_model_cpu_offload()\n",
    "    pipe.to(\"cuda:0\")\n",
    "\n",
    "    for i, a in annots.items():\n",
    "        if int(i) < start_from:\n",
    "            continue\n",
    "        for c in range(len(a['text_descriptions'])):\n",
    "            prompt = a['text_descriptions'][c]\n",
    "            print(\"Generating video for prompt:\", prompt)\n",
    "            video_frames = pipe(prompt, \n",
    "                                num_inference_steps=20, \n",
    "                                height=320, \n",
    "                                width=320, \n",
    "                                num_frames=24).frames\n",
    "            \n",
    "            video_name = f'{i}_captionnumber{c}_{prompt.replace(\"/\",\"-\").replace(\" \", \"-\")}'\n",
    "\n",
    "            # Save frames\n",
    "            os.makedirs(f'./oracle_gens/frames/{video_name}', exist_ok=True)\n",
    "            for k, frame in enumerate(video_frames):\n",
    "                plt.imsave(f'./oracle_gens/frames/{video_name}/{(k+1):03d}.png', frame) # We save frames starting with index 1 to match original stimuli\n",
    "\n",
    "            # Make video and save\n",
    "            frames_to_vid(video_frames, f'./oracle_gens/mp4/{video_name}.mp4', fps=8)\n",
    "\n",
    "            # Make gif and save\n",
    "            vid_to_gif(f'./oracle_gens/mp4/{video_name}.mp4', f'./oracle_gens/gif/{video_name}.gif')\n",
    "            break\n",
    "\n",
    "\n",
    "generate_videos_from_annots_with_local(annots, start_from=0)"
   ]
  },
  {
   "cell_type": "code",
   "execution_count": null,
   "metadata": {},
   "outputs": [],
   "source": []
  },
  {
   "cell_type": "code",
   "execution_count": null,
   "metadata": {},
   "outputs": [],
   "source": []
  }
 ],
 "metadata": {
  "kernelspec": {
   "display_name": "base",
   "language": "python",
   "name": "python3"
  },
  "language_info": {
   "codemirror_mode": {
    "name": "ipython",
    "version": 3
   },
   "file_extension": ".py",
   "mimetype": "text/x-python",
   "name": "python",
   "nbconvert_exporter": "python",
   "pygments_lexer": "ipython3",
   "version": "3.9.13"
  },
  "orig_nbformat": 4
 },
 "nbformat": 4,
 "nbformat_minor": 2
}

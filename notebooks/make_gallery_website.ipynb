{
 "cells": [
  {
   "cell_type": "markdown",
   "metadata": {},
   "source": [
    "# Notebook to auto generate the comparison gallery for the brain2video website"
   ]
  },
  {
   "cell_type": "code",
   "execution_count": 5,
   "metadata": {},
   "outputs": [],
   "source": [
    "import os\n",
    "# import dropbox\n",
    "# from dropbox.exceptions import ApiError"
   ]
  },
  {
   "cell_type": "code",
   "execution_count": 6,
   "metadata": {},
   "outputs": [],
   "source": [
    "\n",
    "# def get_dbx_link(filepath):\n",
    "#     dbx_token = 'sl.Bm-TfTiJV0mtRY1pNSRWE_wHvBif0vGJqaKcnnV__txGj9makTYFYATaQTNJMfYbeQBRuSGuo1_ctjWkiK0CUJgzceKn2ri9EkImf9EU3v2H1H-yAEExZhl4PIs1b6gHtCePZNZXjR8Cw5mwj6Ov8HQ'\n",
    "#     dbx = dropbox.Dropbox(dbx_token)  # Replace <ACCESS_TOKEN> with your Dropbox access token\n",
    "#     settings = dropbox.sharing.SharedLinkSettings(requested_visibility=dropbox.sharing.RequestedVisibility.public)\n",
    "#     try:\n",
    "#         # Try to create a shared link for the file\n",
    "#         shared_link_metadata = dbx.sharing_create_shared_link_with_settings(filepath)\n",
    "#         link= shared_link_metadata.url\n",
    "#     except ApiError as e:\n",
    "#         if e.error.is_shared_link_already_exists():\n",
    "#             # If a shared link already exists, retrieve it\n",
    "#             links = dbx.sharing_list_shared_links(path=filepath).links\n",
    "#             if links:\n",
    "#                 link= links[0].url\n",
    "#             else:\n",
    "#                 print(\"Failed to retrieve the existing link.\")\n",
    "#         else:\n",
    "#             print(\"Error creating shared link:\", e)\n",
    "\n",
    "#     return link.replace('dl=0', 'raw=1')\n"
   ]
  },
  {
   "cell_type": "code",
   "execution_count": 21,
   "metadata": {},
   "outputs": [],
   "source": [
    "import shutil\n",
    "\n",
    "# Move newly generated reconstruction folders to website folder\n",
    "def copy_to_website_folder(recons_folders, \n",
    "                           website_folder='../../brain2video_viz_website/gifs'):\n",
    "\n",
    "    target_folders = []\n",
    "    for recons_folder in recons_folders:\n",
    "        recons_folder_basename = os.path.basename(recons_folder)\n",
    "        gif_source_folder = os.path.join(recons_folder, 'gif')\n",
    "        gif_target_folder = os.path.join(website_folder, recons_folder_basename, 'gif')\n",
    "        target_folders.append(gif_target_folder)\n",
    "\n",
    "    shutil.copytree(gif_source_folder, gif_target_folder, dirs_exist_ok=True)\n",
    "\n",
    "    return target_folders\n",
    "    "
   ]
  },
  {
   "cell_type": "code",
   "execution_count": 22,
   "metadata": {},
   "outputs": [],
   "source": [
    "from bs4 import BeautifulSoup\n",
    "\n",
    "def add_folders_to_html(folders,\n",
    "                        html_path='../../brain2video_viz_website/gifs.html'):\n",
    "    # Read the HTML content\n",
    "    with open(html_path, 'r', encoding='utf-8') as file:\n",
    "        soup = BeautifulSoup(file, 'lxml')\n",
    "\n",
    "    # Find the \"controls\" div\n",
    "    controls_div = soup.find('div', class_='controls')\n",
    "\n",
    "    # Add new buttons based on the folder names\n",
    "    for folder in folders:\n",
    "        f_basename = os.path.basename(folder)\n",
    "        new_button = soup.new_tag('button', **{\n",
    "            'class': 'toggle-btn',\n",
    "            'data-folder': 'gifs/'+f_basename,\n",
    "        })\n",
    "        new_button.string = f_basename\n",
    "        controls_div.append(new_button)\n",
    "\n",
    "    # Write the modified HTML back to the file\n",
    "    with open(html_path, 'w', encoding='utf-8') as file:\n",
    "        file.write(str(soup.prettify()))\n",
    "\n"
   ]
  },
  {
   "cell_type": "markdown",
   "metadata": {},
   "source": [
    "### Run following cells to move to website, modify html, then commit"
   ]
  },
  {
   "cell_type": "code",
   "execution_count": 23,
   "metadata": {},
   "outputs": [],
   "source": [
    "## INDICATE FOLDERS TO MOVE HERE\n",
    "\n",
    "recons_folders = [\n",
    "    \"../reconstructions/BMDgeneral_sub01_blip\",\n",
    "]\n",
    "\n",
    "PATH_TO_HTML = '../../brain2video_viz_website/gifs.html'\n",
    "WEBSITE_FOLDER = '../../brain2video_viz_website/gifs'\n",
    "\n",
    "copy_to_website_folder(recons_folders, WEBSITE_FOLDER)\n",
    "add_folders_to_html(recons_folders, PATH_TO_HTML)"
   ]
  },
  {
   "cell_type": "code",
   "execution_count": 10,
   "metadata": {},
   "outputs": [
    {
     "data": {
      "text/plain": [
       "['BMDgeneral_sub01_blip']"
      ]
     },
     "execution_count": 10,
     "metadata": {},
     "output_type": "execute_result"
    }
   ],
   "source": [
    "%%bash\n",
    "cd ../../brain2video_viz_website\n",
    "git add .\n",
    "git commit -m \"Adding new reconstructions\""
   ]
  },
  {
   "cell_type": "code",
   "execution_count": null,
   "metadata": {},
   "outputs": [],
   "source": []
  }
 ],
 "metadata": {
  "kernelspec": {
   "display_name": "base",
   "language": "python",
   "name": "python3"
  },
  "language_info": {
   "codemirror_mode": {
    "name": "ipython",
    "version": 3
   },
   "file_extension": ".py",
   "mimetype": "text/x-python",
   "name": "python",
   "nbconvert_exporter": "python",
   "pygments_lexer": "ipython3",
   "version": "3.8.3"
  }
 },
 "nbformat": 4,
 "nbformat_minor": 2
}

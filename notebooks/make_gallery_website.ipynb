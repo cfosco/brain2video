{
 "cells": [
  {
   "cell_type": "markdown",
   "metadata": {},
   "source": [
    "# Notebook to auto generate the comparison gallery for the brain2video website"
   ]
  },
  {
   "cell_type": "code",
   "execution_count": 1,
   "metadata": {},
   "outputs": [],
   "source": [
    "import os\n",
    "# import dropbox\n",
    "# from dropbox.exceptions import ApiError"
   ]
  },
  {
   "cell_type": "code",
   "execution_count": 2,
   "metadata": {},
   "outputs": [],
   "source": [
    "\n",
    "# def get_dbx_link(filepath):\n",
    "#     dbx_token = 'sl.Bm-TfTiJV0mtRY1pNSRWE_wHvBif0vGJqaKcnnV__txGj9makTYFYATaQTNJMfYbeQBRuSGuo1_ctjWkiK0CUJgzceKn2ri9EkImf9EU3v2H1H-yAEExZhl4PIs1b6gHtCePZNZXjR8Cw5mwj6Ov8HQ'\n",
    "#     dbx = dropbox.Dropbox(dbx_token)  # Replace <ACCESS_TOKEN> with your Dropbox access token\n",
    "#     settings = dropbox.sharing.SharedLinkSettings(requested_visibility=dropbox.sharing.RequestedVisibility.public)\n",
    "#     try:\n",
    "#         # Try to create a shared link for the file\n",
    "#         shared_link_metadata = dbx.sharing_create_shared_link_with_settings(filepath)\n",
    "#         link= shared_link_metadata.url\n",
    "#     except ApiError as e:\n",
    "#         if e.error.is_shared_link_already_exists():\n",
    "#             # If a shared link already exists, retrieve it\n",
    "#             links = dbx.sharing_list_shared_links(path=filepath).links\n",
    "#             if links:\n",
    "#                 link= links[0].url\n",
    "#             else:\n",
    "#                 print(\"Failed to retrieve the existing link.\")\n",
    "#         else:\n",
    "#             print(\"Error creating shared link:\", e)\n",
    "\n",
    "#     return link.replace('dl=0', 'raw=1')\n"
   ]
  },
  {
   "cell_type": "code",
   "execution_count": 3,
   "metadata": {},
   "outputs": [],
   "source": [
    "import shutil\n",
    "\n",
    "# Move newly generated reconstruction folders to website folder\n",
    "def copy_to_website_folder(recons_folders, \n",
    "                           website_folder='../../brain2video_viz_website/gifs'):\n",
    "\n",
    "    target_folders = []\n",
    "    for recons_folder in recons_folders:\n",
    "        recons_folder_basename = os.path.basename(recons_folder)\n",
    "        gif_source_folder = os.path.join(recons_folder, 'gif')\n",
    "        gif_target_folder = os.path.join(website_folder, recons_folder_basename, 'gif')\n",
    "        target_folders.append(gif_target_folder)\n",
    "\n",
    "    shutil.copytree(gif_source_folder, gif_target_folder, dirs_exist_ok=True)\n",
    "\n",
    "    return target_folders\n",
    "    "
   ]
  },
  {
   "cell_type": "code",
   "execution_count": 4,
   "metadata": {},
   "outputs": [],
   "source": [
    "from bs4 import BeautifulSoup\n",
    "\n",
    "def add_folders_to_html(folders,\n",
    "                        html_path='../../brain2video_viz_website/gifs.html'):\n",
    "    # Read the HTML content\n",
    "    with open(html_path, 'r', encoding='utf-8') as file:\n",
    "        soup = BeautifulSoup(file, 'lxml')\n",
    "\n",
    "    # Find the \"controls\" div\n",
    "    controls_div = soup.find('div', class_='controls')\n",
    "\n",
    "    # Add new buttons based on the folder names\n",
    "    for folder in folders:\n",
    "        f_basename = os.path.basename(folder)\n",
    "        new_button = soup.new_tag('button', **{\n",
    "            'class': 'toggle-btn',\n",
    "            'data-folder': 'gifs/'+f_basename,\n",
    "        })\n",
    "        new_button.string = f_basename\n",
    "        controls_div.append(new_button)\n",
    "\n",
    "    # Write the modified HTML back to the file\n",
    "    with open(html_path, 'w', encoding='utf-8') as file:\n",
    "        file.write(str(soup.prettify()))\n",
    "\n"
   ]
  },
  {
   "cell_type": "markdown",
   "metadata": {},
   "source": [
    "### Run following cells to move to website, modify html, then commit"
   ]
  },
  {
   "cell_type": "code",
   "execution_count": 5,
   "metadata": {},
   "outputs": [],
   "source": [
    "## INDICATE FOLDERS TO MOVE HERE\n",
    "\n",
    "recons_folders = [\n",
    "    \"../reconstructions/BMDgeneral_sub01_blip_avgrepsFalse_lf2_regressorRidge\",\n",
    "]\n",
    "\n",
    "PATH_TO_HTML = '../../brain2video_viz_website/gifs.html'\n",
    "WEBSITE_FOLDER = '../../brain2video_viz_website/gifs'\n",
    "\n",
    "copy_to_website_folder(recons_folders, WEBSITE_FOLDER)\n",
    "add_folders_to_html(recons_folders, PATH_TO_HTML)"
   ]
  },
  {
   "cell_type": "code",
   "execution_count": 6,
   "metadata": {},
   "outputs": [
    {
     "name": "stdout",
     "output_type": "stream",
     "text": [
      "[main 2aff961] Adding new reconstructions\n",
      " 103 files changed, 3 insertions(+)\n",
      " create mode 100644 gifs/BMDgeneral_sub01_blip_avgrepsFalse_lf2_regressorRidge/gif/1001.gif\n",
      " create mode 100644 gifs/BMDgeneral_sub01_blip_avgrepsFalse_lf2_regressorRidge/gif/1002.gif\n",
      " create mode 100644 gifs/BMDgeneral_sub01_blip_avgrepsFalse_lf2_regressorRidge/gif/1003.gif\n",
      " create mode 100644 gifs/BMDgeneral_sub01_blip_avgrepsFalse_lf2_regressorRidge/gif/1004.gif\n",
      " create mode 100644 gifs/BMDgeneral_sub01_blip_avgrepsFalse_lf2_regressorRidge/gif/1005.gif\n",
      " create mode 100644 gifs/BMDgeneral_sub01_blip_avgrepsFalse_lf2_regressorRidge/gif/1006.gif\n",
      " create mode 100644 gifs/BMDgeneral_sub01_blip_avgrepsFalse_lf2_regressorRidge/gif/1007.gif\n",
      " create mode 100644 gifs/BMDgeneral_sub01_blip_avgrepsFalse_lf2_regressorRidge/gif/1008.gif\n",
      " create mode 100644 gifs/BMDgeneral_sub01_blip_avgrepsFalse_lf2_regressorRidge/gif/1009.gif\n",
      " create mode 100644 gifs/BMDgeneral_sub01_blip_avgrepsFalse_lf2_regressorRidge/gif/1010.gif\n",
      " create mode 100644 gifs/BMDgeneral_sub01_blip_avgrepsFalse_lf2_regressorRidge/gif/1011.gif\n",
      " create mode 100644 gifs/BMDgeneral_sub01_blip_avgrepsFalse_lf2_regressorRidge/gif/1012.gif\n",
      " create mode 100644 gifs/BMDgeneral_sub01_blip_avgrepsFalse_lf2_regressorRidge/gif/1013.gif\n",
      " create mode 100644 gifs/BMDgeneral_sub01_blip_avgrepsFalse_lf2_regressorRidge/gif/1014.gif\n",
      " create mode 100644 gifs/BMDgeneral_sub01_blip_avgrepsFalse_lf2_regressorRidge/gif/1015.gif\n",
      " create mode 100644 gifs/BMDgeneral_sub01_blip_avgrepsFalse_lf2_regressorRidge/gif/1016.gif\n",
      " create mode 100644 gifs/BMDgeneral_sub01_blip_avgrepsFalse_lf2_regressorRidge/gif/1017.gif\n",
      " create mode 100644 gifs/BMDgeneral_sub01_blip_avgrepsFalse_lf2_regressorRidge/gif/1018.gif\n",
      " create mode 100644 gifs/BMDgeneral_sub01_blip_avgrepsFalse_lf2_regressorRidge/gif/1019.gif\n",
      " create mode 100644 gifs/BMDgeneral_sub01_blip_avgrepsFalse_lf2_regressorRidge/gif/1020.gif\n",
      " create mode 100644 gifs/BMDgeneral_sub01_blip_avgrepsFalse_lf2_regressorRidge/gif/1021.gif\n",
      " create mode 100644 gifs/BMDgeneral_sub01_blip_avgrepsFalse_lf2_regressorRidge/gif/1022.gif\n",
      " create mode 100644 gifs/BMDgeneral_sub01_blip_avgrepsFalse_lf2_regressorRidge/gif/1023.gif\n",
      " create mode 100644 gifs/BMDgeneral_sub01_blip_avgrepsFalse_lf2_regressorRidge/gif/1024.gif\n",
      " create mode 100644 gifs/BMDgeneral_sub01_blip_avgrepsFalse_lf2_regressorRidge/gif/1025.gif\n",
      " create mode 100644 gifs/BMDgeneral_sub01_blip_avgrepsFalse_lf2_regressorRidge/gif/1026.gif\n",
      " create mode 100644 gifs/BMDgeneral_sub01_blip_avgrepsFalse_lf2_regressorRidge/gif/1027.gif\n",
      " create mode 100644 gifs/BMDgeneral_sub01_blip_avgrepsFalse_lf2_regressorRidge/gif/1028.gif\n",
      " create mode 100644 gifs/BMDgeneral_sub01_blip_avgrepsFalse_lf2_regressorRidge/gif/1029.gif\n",
      " create mode 100644 gifs/BMDgeneral_sub01_blip_avgrepsFalse_lf2_regressorRidge/gif/1030.gif\n",
      " create mode 100644 gifs/BMDgeneral_sub01_blip_avgrepsFalse_lf2_regressorRidge/gif/1031.gif\n",
      " create mode 100644 gifs/BMDgeneral_sub01_blip_avgrepsFalse_lf2_regressorRidge/gif/1032.gif\n",
      " create mode 100644 gifs/BMDgeneral_sub01_blip_avgrepsFalse_lf2_regressorRidge/gif/1033.gif\n",
      " create mode 100644 gifs/BMDgeneral_sub01_blip_avgrepsFalse_lf2_regressorRidge/gif/1034.gif\n",
      " create mode 100644 gifs/BMDgeneral_sub01_blip_avgrepsFalse_lf2_regressorRidge/gif/1035.gif\n",
      " create mode 100644 gifs/BMDgeneral_sub01_blip_avgrepsFalse_lf2_regressorRidge/gif/1036.gif\n",
      " create mode 100644 gifs/BMDgeneral_sub01_blip_avgrepsFalse_lf2_regressorRidge/gif/1037.gif\n",
      " create mode 100644 gifs/BMDgeneral_sub01_blip_avgrepsFalse_lf2_regressorRidge/gif/1038.gif\n",
      " create mode 100644 gifs/BMDgeneral_sub01_blip_avgrepsFalse_lf2_regressorRidge/gif/1039.gif\n",
      " create mode 100644 gifs/BMDgeneral_sub01_blip_avgrepsFalse_lf2_regressorRidge/gif/1040.gif\n",
      " create mode 100644 gifs/BMDgeneral_sub01_blip_avgrepsFalse_lf2_regressorRidge/gif/1041.gif\n",
      " create mode 100644 gifs/BMDgeneral_sub01_blip_avgrepsFalse_lf2_regressorRidge/gif/1042.gif\n",
      " create mode 100644 gifs/BMDgeneral_sub01_blip_avgrepsFalse_lf2_regressorRidge/gif/1043.gif\n",
      " create mode 100644 gifs/BMDgeneral_sub01_blip_avgrepsFalse_lf2_regressorRidge/gif/1044.gif\n",
      " create mode 100644 gifs/BMDgeneral_sub01_blip_avgrepsFalse_lf2_regressorRidge/gif/1045.gif\n",
      " create mode 100644 gifs/BMDgeneral_sub01_blip_avgrepsFalse_lf2_regressorRidge/gif/1046.gif\n",
      " create mode 100644 gifs/BMDgeneral_sub01_blip_avgrepsFalse_lf2_regressorRidge/gif/1047.gif\n",
      " create mode 100644 gifs/BMDgeneral_sub01_blip_avgrepsFalse_lf2_regressorRidge/gif/1048.gif\n",
      " create mode 100644 gifs/BMDgeneral_sub01_blip_avgrepsFalse_lf2_regressorRidge/gif/1049.gif\n",
      " create mode 100644 gifs/BMDgeneral_sub01_blip_avgrepsFalse_lf2_regressorRidge/gif/1050.gif\n",
      " create mode 100644 gifs/BMDgeneral_sub01_blip_avgrepsFalse_lf2_regressorRidge/gif/1051.gif\n",
      " create mode 100644 gifs/BMDgeneral_sub01_blip_avgrepsFalse_lf2_regressorRidge/gif/1052.gif\n",
      " create mode 100644 gifs/BMDgeneral_sub01_blip_avgrepsFalse_lf2_regressorRidge/gif/1053.gif\n",
      " create mode 100644 gifs/BMDgeneral_sub01_blip_avgrepsFalse_lf2_regressorRidge/gif/1054.gif\n",
      " create mode 100644 gifs/BMDgeneral_sub01_blip_avgrepsFalse_lf2_regressorRidge/gif/1055.gif\n",
      " create mode 100644 gifs/BMDgeneral_sub01_blip_avgrepsFalse_lf2_regressorRidge/gif/1056.gif\n",
      " create mode 100644 gifs/BMDgeneral_sub01_blip_avgrepsFalse_lf2_regressorRidge/gif/1057.gif\n",
      " create mode 100644 gifs/BMDgeneral_sub01_blip_avgrepsFalse_lf2_regressorRidge/gif/1058.gif\n",
      " create mode 100644 gifs/BMDgeneral_sub01_blip_avgrepsFalse_lf2_regressorRidge/gif/1059.gif\n",
      " create mode 100644 gifs/BMDgeneral_sub01_blip_avgrepsFalse_lf2_regressorRidge/gif/1060.gif\n",
      " create mode 100644 gifs/BMDgeneral_sub01_blip_avgrepsFalse_lf2_regressorRidge/gif/1061.gif\n",
      " create mode 100644 gifs/BMDgeneral_sub01_blip_avgrepsFalse_lf2_regressorRidge/gif/1062.gif\n",
      " create mode 100644 gifs/BMDgeneral_sub01_blip_avgrepsFalse_lf2_regressorRidge/gif/1063.gif\n",
      " create mode 100644 gifs/BMDgeneral_sub01_blip_avgrepsFalse_lf2_regressorRidge/gif/1064.gif\n",
      " create mode 100644 gifs/BMDgeneral_sub01_blip_avgrepsFalse_lf2_regressorRidge/gif/1065.gif\n",
      " create mode 100644 gifs/BMDgeneral_sub01_blip_avgrepsFalse_lf2_regressorRidge/gif/1066.gif\n",
      " create mode 100644 gifs/BMDgeneral_sub01_blip_avgrepsFalse_lf2_regressorRidge/gif/1067.gif\n",
      " create mode 100644 gifs/BMDgeneral_sub01_blip_avgrepsFalse_lf2_regressorRidge/gif/1068.gif\n",
      " create mode 100644 gifs/BMDgeneral_sub01_blip_avgrepsFalse_lf2_regressorRidge/gif/1069.gif\n",
      " create mode 100644 gifs/BMDgeneral_sub01_blip_avgrepsFalse_lf2_regressorRidge/gif/1070.gif\n",
      " create mode 100644 gifs/BMDgeneral_sub01_blip_avgrepsFalse_lf2_regressorRidge/gif/1071.gif\n",
      " create mode 100644 gifs/BMDgeneral_sub01_blip_avgrepsFalse_lf2_regressorRidge/gif/1072.gif\n",
      " create mode 100644 gifs/BMDgeneral_sub01_blip_avgrepsFalse_lf2_regressorRidge/gif/1073.gif\n",
      " create mode 100644 gifs/BMDgeneral_sub01_blip_avgrepsFalse_lf2_regressorRidge/gif/1074.gif\n",
      " create mode 100644 gifs/BMDgeneral_sub01_blip_avgrepsFalse_lf2_regressorRidge/gif/1075.gif\n",
      " create mode 100644 gifs/BMDgeneral_sub01_blip_avgrepsFalse_lf2_regressorRidge/gif/1076.gif\n",
      " create mode 100644 gifs/BMDgeneral_sub01_blip_avgrepsFalse_lf2_regressorRidge/gif/1077.gif\n",
      " create mode 100644 gifs/BMDgeneral_sub01_blip_avgrepsFalse_lf2_regressorRidge/gif/1078.gif\n",
      " create mode 100644 gifs/BMDgeneral_sub01_blip_avgrepsFalse_lf2_regressorRidge/gif/1079.gif\n",
      " create mode 100644 gifs/BMDgeneral_sub01_blip_avgrepsFalse_lf2_regressorRidge/gif/1080.gif\n",
      " create mode 100644 gifs/BMDgeneral_sub01_blip_avgrepsFalse_lf2_regressorRidge/gif/1081.gif\n",
      " create mode 100644 gifs/BMDgeneral_sub01_blip_avgrepsFalse_lf2_regressorRidge/gif/1082.gif\n",
      " create mode 100644 gifs/BMDgeneral_sub01_blip_avgrepsFalse_lf2_regressorRidge/gif/1083.gif\n",
      " create mode 100644 gifs/BMDgeneral_sub01_blip_avgrepsFalse_lf2_regressorRidge/gif/1084.gif\n",
      " create mode 100644 gifs/BMDgeneral_sub01_blip_avgrepsFalse_lf2_regressorRidge/gif/1085.gif\n",
      " create mode 100644 gifs/BMDgeneral_sub01_blip_avgrepsFalse_lf2_regressorRidge/gif/1086.gif\n",
      " create mode 100644 gifs/BMDgeneral_sub01_blip_avgrepsFalse_lf2_regressorRidge/gif/1087.gif\n",
      " create mode 100644 gifs/BMDgeneral_sub01_blip_avgrepsFalse_lf2_regressorRidge/gif/1088.gif\n",
      " create mode 100644 gifs/BMDgeneral_sub01_blip_avgrepsFalse_lf2_regressorRidge/gif/1089.gif\n",
      " create mode 100644 gifs/BMDgeneral_sub01_blip_avgrepsFalse_lf2_regressorRidge/gif/1090.gif\n",
      " create mode 100644 gifs/BMDgeneral_sub01_blip_avgrepsFalse_lf2_regressorRidge/gif/1091.gif\n",
      " create mode 100644 gifs/BMDgeneral_sub01_blip_avgrepsFalse_lf2_regressorRidge/gif/1092.gif\n",
      " create mode 100644 gifs/BMDgeneral_sub01_blip_avgrepsFalse_lf2_regressorRidge/gif/1093.gif\n",
      " create mode 100644 gifs/BMDgeneral_sub01_blip_avgrepsFalse_lf2_regressorRidge/gif/1094.gif\n",
      " create mode 100644 gifs/BMDgeneral_sub01_blip_avgrepsFalse_lf2_regressorRidge/gif/1095.gif\n",
      " create mode 100644 gifs/BMDgeneral_sub01_blip_avgrepsFalse_lf2_regressorRidge/gif/1096.gif\n",
      " create mode 100644 gifs/BMDgeneral_sub01_blip_avgrepsFalse_lf2_regressorRidge/gif/1097.gif\n",
      " create mode 100644 gifs/BMDgeneral_sub01_blip_avgrepsFalse_lf2_regressorRidge/gif/1098.gif\n",
      " create mode 100644 gifs/BMDgeneral_sub01_blip_avgrepsFalse_lf2_regressorRidge/gif/1099.gif\n",
      " create mode 100644 gifs/BMDgeneral_sub01_blip_avgrepsFalse_lf2_regressorRidge/gif/1100.gif\n",
      " create mode 100644 gifs/BMDgeneral_sub01_blip_avgrepsFalse_lf2_regressorRidge/gif/1101.gif\n",
      " create mode 100644 gifs/BMDgeneral_sub01_blip_avgrepsFalse_lf2_regressorRidge/gif/1102.gif\n"
     ]
    },
    {
     "name": "stderr",
     "output_type": "stream",
     "text": [
      "fatal: could not read Username for 'https://github.com': No such device or address\n"
     ]
    },
    {
     "ename": "CalledProcessError",
     "evalue": "Command 'b'cd ../../brain2video_viz_website\\ngit add .\\ngit commit -m \"Adding new reconstructions\"\\ngit push\\n'' returned non-zero exit status 128.",
     "output_type": "error",
     "traceback": [
      "\u001b[0;31m---------------------------------------------------------------------------\u001b[0m",
      "\u001b[0;31mCalledProcessError\u001b[0m                        Traceback (most recent call last)",
      "\u001b[0;32m/tmp/ipykernel_2641962/1482631963.py\u001b[0m in \u001b[0;36m<module>\u001b[0;34m\u001b[0m\n\u001b[0;32m----> 1\u001b[0;31m \u001b[0mget_ipython\u001b[0m\u001b[0;34m(\u001b[0m\u001b[0;34m)\u001b[0m\u001b[0;34m.\u001b[0m\u001b[0mrun_cell_magic\u001b[0m\u001b[0;34m(\u001b[0m\u001b[0;34m'bash'\u001b[0m\u001b[0;34m,\u001b[0m \u001b[0;34m''\u001b[0m\u001b[0;34m,\u001b[0m \u001b[0;34m'cd ../../brain2video_viz_website\\ngit add .\\ngit commit -m \"Adding new reconstructions\"\\ngit push\\n'\u001b[0m\u001b[0;34m)\u001b[0m\u001b[0;34m\u001b[0m\u001b[0;34m\u001b[0m\u001b[0m\n\u001b[0m",
      "\u001b[0;32m~/anaconda3/lib/python3.9/site-packages/IPython/core/interactiveshell.py\u001b[0m in \u001b[0;36mrun_cell_magic\u001b[0;34m(self, magic_name, line, cell)\u001b[0m\n\u001b[1;32m   2417\u001b[0m             \u001b[0;32mwith\u001b[0m \u001b[0mself\u001b[0m\u001b[0;34m.\u001b[0m\u001b[0mbuiltin_trap\u001b[0m\u001b[0;34m:\u001b[0m\u001b[0;34m\u001b[0m\u001b[0;34m\u001b[0m\u001b[0m\n\u001b[1;32m   2418\u001b[0m                 \u001b[0margs\u001b[0m \u001b[0;34m=\u001b[0m \u001b[0;34m(\u001b[0m\u001b[0mmagic_arg_s\u001b[0m\u001b[0;34m,\u001b[0m \u001b[0mcell\u001b[0m\u001b[0;34m)\u001b[0m\u001b[0;34m\u001b[0m\u001b[0;34m\u001b[0m\u001b[0m\n\u001b[0;32m-> 2419\u001b[0;31m                 \u001b[0mresult\u001b[0m \u001b[0;34m=\u001b[0m \u001b[0mfn\u001b[0m\u001b[0;34m(\u001b[0m\u001b[0;34m*\u001b[0m\u001b[0margs\u001b[0m\u001b[0;34m,\u001b[0m \u001b[0;34m**\u001b[0m\u001b[0mkwargs\u001b[0m\u001b[0;34m)\u001b[0m\u001b[0;34m\u001b[0m\u001b[0;34m\u001b[0m\u001b[0m\n\u001b[0m\u001b[1;32m   2420\u001b[0m             \u001b[0;32mreturn\u001b[0m \u001b[0mresult\u001b[0m\u001b[0;34m\u001b[0m\u001b[0;34m\u001b[0m\u001b[0m\n\u001b[1;32m   2421\u001b[0m \u001b[0;34m\u001b[0m\u001b[0m\n",
      "\u001b[0;32m~/anaconda3/lib/python3.9/site-packages/IPython/core/magics/script.py\u001b[0m in \u001b[0;36mnamed_script_magic\u001b[0;34m(line, cell)\u001b[0m\n\u001b[1;32m    140\u001b[0m             \u001b[0;32melse\u001b[0m\u001b[0;34m:\u001b[0m\u001b[0;34m\u001b[0m\u001b[0;34m\u001b[0m\u001b[0m\n\u001b[1;32m    141\u001b[0m                 \u001b[0mline\u001b[0m \u001b[0;34m=\u001b[0m \u001b[0mscript\u001b[0m\u001b[0;34m\u001b[0m\u001b[0;34m\u001b[0m\u001b[0m\n\u001b[0;32m--> 142\u001b[0;31m             \u001b[0;32mreturn\u001b[0m \u001b[0mself\u001b[0m\u001b[0;34m.\u001b[0m\u001b[0mshebang\u001b[0m\u001b[0;34m(\u001b[0m\u001b[0mline\u001b[0m\u001b[0;34m,\u001b[0m \u001b[0mcell\u001b[0m\u001b[0;34m)\u001b[0m\u001b[0;34m\u001b[0m\u001b[0;34m\u001b[0m\u001b[0m\n\u001b[0m\u001b[1;32m    143\u001b[0m \u001b[0;34m\u001b[0m\u001b[0m\n\u001b[1;32m    144\u001b[0m         \u001b[0;31m# write a basic docstring:\u001b[0m\u001b[0;34m\u001b[0m\u001b[0;34m\u001b[0m\u001b[0m\n",
      "\u001b[0;32m<decorator-gen-103>\u001b[0m in \u001b[0;36mshebang\u001b[0;34m(self, line, cell)\u001b[0m\n",
      "\u001b[0;32m~/anaconda3/lib/python3.9/site-packages/IPython/core/magic.py\u001b[0m in \u001b[0;36m<lambda>\u001b[0;34m(f, *a, **k)\u001b[0m\n\u001b[1;32m    185\u001b[0m     \u001b[0;31m# but it's overkill for just that one bit of state.\u001b[0m\u001b[0;34m\u001b[0m\u001b[0;34m\u001b[0m\u001b[0m\n\u001b[1;32m    186\u001b[0m     \u001b[0;32mdef\u001b[0m \u001b[0mmagic_deco\u001b[0m\u001b[0;34m(\u001b[0m\u001b[0marg\u001b[0m\u001b[0;34m)\u001b[0m\u001b[0;34m:\u001b[0m\u001b[0;34m\u001b[0m\u001b[0;34m\u001b[0m\u001b[0m\n\u001b[0;32m--> 187\u001b[0;31m         \u001b[0mcall\u001b[0m \u001b[0;34m=\u001b[0m \u001b[0;32mlambda\u001b[0m \u001b[0mf\u001b[0m\u001b[0;34m,\u001b[0m \u001b[0;34m*\u001b[0m\u001b[0ma\u001b[0m\u001b[0;34m,\u001b[0m \u001b[0;34m**\u001b[0m\u001b[0mk\u001b[0m\u001b[0;34m:\u001b[0m \u001b[0mf\u001b[0m\u001b[0;34m(\u001b[0m\u001b[0;34m*\u001b[0m\u001b[0ma\u001b[0m\u001b[0;34m,\u001b[0m \u001b[0;34m**\u001b[0m\u001b[0mk\u001b[0m\u001b[0;34m)\u001b[0m\u001b[0;34m\u001b[0m\u001b[0;34m\u001b[0m\u001b[0m\n\u001b[0m\u001b[1;32m    188\u001b[0m \u001b[0;34m\u001b[0m\u001b[0m\n\u001b[1;32m    189\u001b[0m         \u001b[0;32mif\u001b[0m \u001b[0mcallable\u001b[0m\u001b[0;34m(\u001b[0m\u001b[0marg\u001b[0m\u001b[0;34m)\u001b[0m\u001b[0;34m:\u001b[0m\u001b[0;34m\u001b[0m\u001b[0;34m\u001b[0m\u001b[0m\n",
      "\u001b[0;32m~/anaconda3/lib/python3.9/site-packages/IPython/core/magics/script.py\u001b[0m in \u001b[0;36mshebang\u001b[0;34m(self, line, cell)\u001b[0m\n\u001b[1;32m    243\u001b[0m             \u001b[0msys\u001b[0m\u001b[0;34m.\u001b[0m\u001b[0mstderr\u001b[0m\u001b[0;34m.\u001b[0m\u001b[0mflush\u001b[0m\u001b[0;34m(\u001b[0m\u001b[0;34m)\u001b[0m\u001b[0;34m\u001b[0m\u001b[0;34m\u001b[0m\u001b[0m\n\u001b[1;32m    244\u001b[0m         \u001b[0;32mif\u001b[0m \u001b[0margs\u001b[0m\u001b[0;34m.\u001b[0m\u001b[0mraise_error\u001b[0m \u001b[0;32mand\u001b[0m \u001b[0mp\u001b[0m\u001b[0;34m.\u001b[0m\u001b[0mreturncode\u001b[0m\u001b[0;34m!=\u001b[0m\u001b[0;36m0\u001b[0m\u001b[0;34m:\u001b[0m\u001b[0;34m\u001b[0m\u001b[0;34m\u001b[0m\u001b[0m\n\u001b[0;32m--> 245\u001b[0;31m             \u001b[0;32mraise\u001b[0m \u001b[0mCalledProcessError\u001b[0m\u001b[0;34m(\u001b[0m\u001b[0mp\u001b[0m\u001b[0;34m.\u001b[0m\u001b[0mreturncode\u001b[0m\u001b[0;34m,\u001b[0m \u001b[0mcell\u001b[0m\u001b[0;34m,\u001b[0m \u001b[0moutput\u001b[0m\u001b[0;34m=\u001b[0m\u001b[0mout\u001b[0m\u001b[0;34m,\u001b[0m \u001b[0mstderr\u001b[0m\u001b[0;34m=\u001b[0m\u001b[0merr\u001b[0m\u001b[0;34m)\u001b[0m\u001b[0;34m\u001b[0m\u001b[0;34m\u001b[0m\u001b[0m\n\u001b[0m\u001b[1;32m    246\u001b[0m \u001b[0;34m\u001b[0m\u001b[0m\n\u001b[1;32m    247\u001b[0m     \u001b[0;32mdef\u001b[0m \u001b[0m_run_script\u001b[0m\u001b[0;34m(\u001b[0m\u001b[0mself\u001b[0m\u001b[0;34m,\u001b[0m \u001b[0mp\u001b[0m\u001b[0;34m,\u001b[0m \u001b[0mcell\u001b[0m\u001b[0;34m,\u001b[0m \u001b[0mto_close\u001b[0m\u001b[0;34m)\u001b[0m\u001b[0;34m:\u001b[0m\u001b[0;34m\u001b[0m\u001b[0;34m\u001b[0m\u001b[0m\n",
      "\u001b[0;31mCalledProcessError\u001b[0m: Command 'b'cd ../../brain2video_viz_website\\ngit add .\\ngit commit -m \"Adding new reconstructions\"\\ngit push\\n'' returned non-zero exit status 128."
     ]
    }
   ],
   "source": [
    "%%bash\n",
    "cd ../../brain2video_viz_website\n",
    "git add .\n",
    "git commit -m \"Adding new reconstructions\"\n",
    "git push"
   ]
  },
  {
   "cell_type": "code",
   "execution_count": 2,
   "metadata": {},
   "outputs": [
    {
     "name": "stdout",
     "output_type": "stream",
     "text": [
      "0.18958333333333335\n"
     ]
    }
   ],
   "source": [
    "first_eq = 0.1\n",
    "cliff_first_year = 0.25\n",
    "first_eq_each_month = first_eq / 48\n",
    "\n",
    "feb = 2\n",
    "sept = 9\n",
    "n_months = feb - sept\n",
    "\n",
    "target_in_sept = 0.2\n",
    "\n",
    "second_eq = (target_in_sept - first_eq*cliff_first_year - first_eq_each_month*n_months)\n",
    "print(second_eq)"
   ]
  },
  {
   "cell_type": "code",
   "execution_count": null,
   "metadata": {},
   "outputs": [],
   "source": []
  }
 ],
 "metadata": {
  "kernelspec": {
   "display_name": "base",
   "language": "python",
   "name": "python3"
  },
  "language_info": {
   "codemirror_mode": {
    "name": "ipython",
    "version": 3
   },
   "file_extension": ".py",
   "mimetype": "text/x-python",
   "name": "python",
   "nbconvert_exporter": "python",
   "pygments_lexer": "ipython3",
   "version": "3.9.13"
  }
 },
 "nbformat": 4,
 "nbformat_minor": 2
}

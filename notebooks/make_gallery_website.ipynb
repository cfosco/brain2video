{
 "cells": [
  {
   "cell_type": "markdown",
   "metadata": {},
   "source": [
    "# Notebook to auto generate the comparison gallery for the brain2video website"
   ]
  },
  {
   "cell_type": "code",
   "execution_count": 2,
   "metadata": {},
   "outputs": [],
   "source": [
    "import os\n",
    "import dropbox\n",
    "from dropbox.exceptions import ApiError"
   ]
  },
  {
   "cell_type": "code",
   "execution_count": 1,
   "metadata": {},
   "outputs": [],
   "source": [
    "\n",
    "def get_dropbox_links(parent_folder):\n",
    "    pass\n",
    "\n",
    "\n",
    "def populate_html_template():\n",
    "    pass\n",
    "\n",
    "\n",
    "# def get_dbx_link(filepath):\n",
    "#     dbx_token = 'sl.Bm-TfTiJV0mtRY1pNSRWE_wHvBif0vGJqaKcnnV__txGj9makTYFYATaQTNJMfYbeQBRuSGuo1_ctjWkiK0CUJgzceKn2ri9EkImf9EU3v2H1H-yAEExZhl4PIs1b6gHtCePZNZXjR8Cw5mwj6Ov8HQ'\n",
    "#     dbx = dropbox.Dropbox(dbx_token)  # Replace <ACCESS_TOKEN> with your Dropbox access token\n",
    "#     settings = dropbox.sharing.SharedLinkSettings(requested_visibility=dropbox.sharing.RequestedVisibility.public)\n",
    "#     try:\n",
    "#         # Try to create a shared link for the file\n",
    "#         shared_link_metadata = dbx.sharing_create_shared_link_with_settings(filepath)\n",
    "#         link= shared_link_metadata.url\n",
    "#     except ApiError as e:\n",
    "#         if e.error.is_shared_link_already_exists():\n",
    "#             # If a shared link already exists, retrieve it\n",
    "#             links = dbx.sharing_list_shared_links(path=filepath).links\n",
    "#             if links:\n",
    "#                 link= links[0].url\n",
    "#             else:\n",
    "#                 print(\"Failed to retrieve the existing link.\")\n",
    "#         else:\n",
    "#             print(\"Error creating shared link:\", e)\n",
    "\n",
    "#     return link.replace('dl=0', 'raw=1')\n",
    "\n",
    "\n"
   ]
  },
  {
   "cell_type": "code",
   "execution_count": null,
   "metadata": {},
   "outputs": [],
   "source": [
    "# Move folders to public folder\n",
    "\n",
    "# Build html template\n",
    "\n",
    "# commit to gh pages"
   ]
  }
 ],
 "metadata": {
  "kernelspec": {
   "display_name": "base",
   "language": "python",
   "name": "python3"
  },
  "language_info": {
   "codemirror_mode": {
    "name": "ipython",
    "version": 3
   },
   "file_extension": ".py",
   "mimetype": "text/x-python",
   "name": "python",
   "nbconvert_exporter": "python",
   "pygments_lexer": "ipython3",
   "version": "3.9.13"
  }
 },
 "nbformat": 4,
 "nbformat_minor": 2
}

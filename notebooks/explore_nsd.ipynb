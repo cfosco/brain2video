{
 "cells": [
  {
   "cell_type": "markdown",
   "metadata": {},
   "source": [
    "# Notebook to explore NSD data and analyze fmri / other features made by Takagi et al."
   ]
  },
  {
   "cell_type": "code",
   "execution_count": 3,
   "metadata": {},
   "outputs": [],
   "source": [
    "import numpy as np\n",
    "import os\n"
   ]
  },
  {
   "cell_type": "code",
   "execution_count": 7,
   "metadata": {},
   "outputs": [
    {
     "name": "stdout",
     "output_type": "stream",
     "text": [
      "(9841,)\n",
      "(27750,)\n"
     ]
    }
   ],
   "source": [
    "# Check npy fmris\n",
    "\n",
    "path_to_takagi_fmri = '../StableDiffusionReconstruction/mrifeat/'\n",
    "\n",
    "# Load the npy data\n",
    "subj01_stims_ave = np.load(os.path.join(path_to_takagi_fmri, 'subj01' ,'subj01_stims_ave.npy'))\n",
    "subj01_stims = np.load(os.path.join(path_to_takagi_fmri, 'subj01' ,'subj01_stims.npy'))\n",
    "\n",
    "print(subj01_stims_ave.shape)\n",
    "print(subj01_stims.shape)"
   ]
  },
  {
   "cell_type": "code",
   "execution_count": null,
   "metadata": {},
   "outputs": [],
   "source": [
    "# Check dimensionality of NSD\n",
    "import numpy as np\n",
    "\n",
    "early_betas_ave_te = np.load(\"../StableDiffusionReconstruction/mrifeat/subj01/subj01_early_betas_ave_te.npy\")\n",
    "\n",
    "print(early_betas_ave_te.shape)\n"
   ]
  },
  {
   "cell_type": "code",
   "execution_count": 62,
   "metadata": {},
   "outputs": [
    {
     "name": "stdout",
     "output_type": "stream",
     "text": [
      "idx: 0\n",
      "lower_bound, upper_bound: 0 0.1\n",
      "Expected normalized_value: 0\n",
      "Calculated normalized_value: 0.1\n"
     ]
    }
   ],
   "source": [
    "\n",
    "import numpy as np\n",
    "ordered_values = [0, 0.1, 0.15, 0.16, 0.17, 0.2, 0.25, 0.3, 0.4, 0.6, 1] # ponele q estos son percentiles de CTR\n",
    "n = len(ordered_values)\n",
    "\n",
    "# Example: Value = 8.4. Expected normalized_value: 0.84\n",
    "value = 0.1\n",
    "expected_value = 0\n",
    "\n",
    "if value <= ordered_values[0]:\n",
    "    normalized_value = 0\n",
    "elif value >= ordered_values[-1]:\n",
    "    normalized_value = 1\n",
    "else:\n",
    "\n",
    "    # use searchsorted to find closest upper bound\n",
    "    idx = np.searchsorted(ordered_values, value, side=\"left\")-1\n",
    "    print(\"idx:\", idx)\n",
    "    lower_bound = ordered_values[idx]\n",
    "    upper_bound = ordered_values[idx+1]\n",
    "    print(\"lower_bound, upper_bound:\",lower_bound, upper_bound)\n",
    "\n",
    "    # calculate normalized value\n",
    "    normalized_value = (idx)/(n-1) + (value - lower_bound) / (upper_bound - lower_bound) / (n-1)\n",
    "print(\"Expected normalized_value:\", expected_value)\n",
    "print(\"Calculated normalized_value:\", normalized_value)"
   ]
  },
  {
   "cell_type": "code",
   "execution_count": 2,
   "metadata": {},
   "outputs": [
    {
     "name": "stdout",
     "output_type": "stream",
     "text": [
      "(982, 5917)\n"
     ]
    }
   ],
   "source": []
  }
 ],
 "metadata": {
  "kernelspec": {
   "display_name": "base",
   "language": "python",
   "name": "python3"
  },
  "language_info": {
   "codemirror_mode": {
    "name": "ipython",
    "version": 3
   },
   "file_extension": ".py",
   "mimetype": "text/x-python",
   "name": "python",
   "nbconvert_exporter": "python",
   "pygments_lexer": "ipython3",
   "version": "3.9.13"
  },
  "orig_nbformat": 4
 },
 "nbformat": 4,
 "nbformat_minor": 2
}

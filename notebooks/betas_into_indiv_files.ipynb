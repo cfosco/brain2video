{
 "cells": [
  {
   "cell_type": "markdown",
   "metadata": {},
   "source": [
    "# Notebook to put all betas into individual pkl files\n"
   ]
  },
  {
   "cell_type": "code",
   "execution_count": 1,
   "metadata": {},
   "outputs": [],
   "source": [
    "import numpy as np\n",
    "import pickle as pkl\n",
    "import os\n",
    "from tqdm import tqdm"
   ]
  },
  {
   "cell_type": "markdown",
   "metadata": {},
   "source": [
    "## Transform NSD betas"
   ]
  },
  {
   "cell_type": "code",
   "execution_count": 8,
   "metadata": {},
   "outputs": [],
   "source": [
    "# Function that loads a pkl file with betas and stores each vector separately\n",
    "\n",
    "def nsd_betas_to_indiv_files(betas_path, \n",
    "                         subs=None, \n",
    "                         rois=None):\n",
    "\n",
    "    if subs is None:\n",
    "        subs = sorted(os.listdir(betas_path))\n",
    "    \n",
    "    for sub in subs:\n",
    "        # Load pickle with ids of stimuli\n",
    "        with open(f'{betas_path}/{sub}/events_imgtag-73k_id.pkl', 'rb') as f:\n",
    "            idxs = pkl.load(f)[0]\n",
    "        print(f'Processing {sub}...')\n",
    "        if rois is None:\n",
    "            rois = sorted([r.split('_')[0] for r in os.listdir(os.path.join(betas_path, sub, 'prepared_allvoxel_pkl'))])\n",
    "        for roi in rois:\n",
    "            roi_pkl = roi+'_betas-GLMsingle_type-typeb_z=1.pkl'\n",
    "            print(f'Processing {roi_pkl}...')\n",
    "            with open(os.path.join(betas_path, sub, 'prepared_allvoxel_pkl', roi_pkl), 'rb') as f:\n",
    "                data = pkl.load(f)\n",
    "            d = data['data_allvoxel']\n",
    "            savedir = os.path.join(betas_path, sub, 'indiv_npys', roi_pkl[:-4])\n",
    "            \n",
    "            # If savedir exists, delete all its contents\n",
    "            if os.path.exists(savedir):\n",
    "                for f in os.listdir(savedir):\n",
    "                    os.remove(os.path.join(savedir, f))\n",
    "            else:\n",
    "                os.makedirs(savedir, exist_ok=True)\n",
    "\n",
    "            print(max(idxs))\n",
    "            for s, stim in tqdm(enumerate(d)):\n",
    "                for r, rep in enumerate(stim):\n",
    "                    npy_name = f'{idxs[s]-1:06d}_{r}.npy' #TODO: Check if indexes match correctly here\n",
    "                    np.save(os.path.join(savedir, npy_name), rep)\n"
   ]
  },
  {
   "cell_type": "code",
   "execution_count": 9,
   "metadata": {},
   "outputs": [
    {
     "name": "stdout",
     "output_type": "stream",
     "text": [
      "Processing sub01...\n",
      "Processing BMDgeneral_betas-GLMsingle_type-typeb_z=1.pkl...\n",
      "73000\n"
     ]
    },
    {
     "name": "stderr",
     "output_type": "stream",
     "text": [
      "10000it [00:44, 222.79it/s]\n"
     ]
    },
    {
     "name": "stdout",
     "output_type": "stream",
     "text": [
      "Processing sub02...\n",
      "Processing BMDgeneral_betas-GLMsingle_type-typeb_z=1.pkl...\n",
      "72974\n"
     ]
    },
    {
     "name": "stderr",
     "output_type": "stream",
     "text": [
      "10000it [00:36, 276.94it/s]\n"
     ]
    },
    {
     "name": "stdout",
     "output_type": "stream",
     "text": [
      "Processing sub03...\n",
      "Processing BMDgeneral_betas-GLMsingle_type-typeb_z=1.pkl...\n",
      "72990\n"
     ]
    },
    {
     "name": "stderr",
     "output_type": "stream",
     "text": [
      "6234it [00:23, 266.35it/s]\n"
     ]
    },
    {
     "name": "stdout",
     "output_type": "stream",
     "text": [
      "Processing sub04...\n",
      "Processing BMDgeneral_betas-GLMsingle_type-typeb_z=1.pkl...\n",
      "72980\n"
     ]
    },
    {
     "name": "stderr",
     "output_type": "stream",
     "text": [
      "5445it [00:19, 280.40it/s]\n"
     ]
    },
    {
     "name": "stdout",
     "output_type": "stream",
     "text": [
      "Processing sub05...\n",
      "Processing BMDgeneral_betas-GLMsingle_type-typeb_z=1.pkl...\n",
      "72994\n"
     ]
    },
    {
     "name": "stderr",
     "output_type": "stream",
     "text": [
      "10000it [00:37, 264.76it/s]\n"
     ]
    },
    {
     "name": "stdout",
     "output_type": "stream",
     "text": [
      "Processing sub06...\n",
      "Processing BMDgeneral_betas-GLMsingle_type-typeb_z=1.pkl...\n",
      "72985\n"
     ]
    },
    {
     "name": "stderr",
     "output_type": "stream",
     "text": [
      "6234it [00:23, 267.30it/s]\n"
     ]
    },
    {
     "name": "stdout",
     "output_type": "stream",
     "text": [
      "Processing sub07...\n",
      "Processing BMDgeneral_betas-GLMsingle_type-typeb_z=1.pkl...\n",
      "72999\n"
     ]
    },
    {
     "name": "stderr",
     "output_type": "stream",
     "text": [
      "10000it [00:35, 281.03it/s]\n"
     ]
    },
    {
     "name": "stdout",
     "output_type": "stream",
     "text": [
      "Processing sub08...\n",
      "Processing BMDgeneral_betas-GLMsingle_type-typeb_z=1.pkl...\n",
      "72997\n"
     ]
    },
    {
     "name": "stderr",
     "output_type": "stream",
     "text": [
      "5445it [00:19, 285.27it/s]\n"
     ]
    }
   ],
   "source": [
    "nsd_betas_to_indiv_files('../data/betas_nsd', rois=['BMDgeneral'])"
   ]
  },
  {
   "cell_type": "markdown",
   "metadata": {},
   "source": [
    "## Transform BMD betas"
   ]
  },
  {
   "cell_type": "code",
   "execution_count": 4,
   "metadata": {},
   "outputs": [],
   "source": [
    "\n",
    "\n",
    "def bmd_betas_to_indiv_files(betas_path, \n",
    "                             subs=None,\n",
    "                             rois=None):\n",
    "\n",
    "    if subs is None:\n",
    "        subs = sorted(os.listdir(betas_path))\n",
    "    \n",
    "    for sub in subs:\n",
    "        print(f'Processing {sub}...')\n",
    "        if rois is None:\n",
    "            rois = sorted([r.split('_')[0] for r in os.listdir(os.path.join(betas_path, sub, 'prepared_allvoxel_pkl'))])\n",
    "        for roi in rois:\n",
    "            roi_pkl = roi+'_betas-GLMsingle_type-typed_z=1.pkl'\n",
    "            print(f'Processing {roi_pkl}...')\n",
    "            with open(os.path.join(betas_path, sub, 'prepared_allvoxel_pkl', roi_pkl), 'rb') as f:\n",
    "                data = pkl.load(f)\n",
    "\n",
    "            print(data.keys())\n",
    "\n",
    "            # d = np.concatenate([data['train_data_allvoxel'], data['test_data_allvoxel']], axis=0)\n",
    "            d_train = data['train_data_allvoxel']\n",
    "            d_test = data['test_data_allvoxel']\n",
    "            \n",
    "            savedir = os.path.join(betas_path, sub, 'indiv_npys', roi_pkl[:-4])\n",
    "            os.makedirs(savedir, exist_ok=True)\n",
    "            for s, stim in enumerate(d_train):\n",
    "                for r, rep in enumerate(stim):\n",
    "                    npy_name = f'{s+1:04d}_{r}.npy'\n",
    "                    np.save(os.path.join(savedir, npy_name), rep)\n",
    "            for s, stim in enumerate(d_test):\n",
    "                for r, rep in enumerate(stim):\n",
    "                    npy_name = f'{s+1+len(d_train):04d}_{r}.npy'\n",
    "                    np.save(os.path.join(savedir, npy_name), rep)\n"
   ]
  },
  {
   "cell_type": "code",
   "execution_count": 5,
   "metadata": {},
   "outputs": [
    {
     "name": "stdout",
     "output_type": "stream",
     "text": [
      "Processing BMDgeneral_betas-GLMsingle_type-typed_z=1.pkl...\n",
      "dict_keys(['test_data_allvoxel', 'test_noiseceiling_allvoxel', 'train_data_allvoxel', 'train_noiseceiling_allvoxel', 'roi_indices_fullvolume'])\n"
     ]
    },
    {
     "name": "stderr",
     "output_type": "stream",
     "text": [
      "1000it [00:03, 310.19it/s]\n",
      "102it [00:01, 73.92it/s]\n"
     ]
    },
    {
     "name": "stdout",
     "output_type": "stream",
     "text": [
      "Processing BMDgeneral_betas-GLMsingle_type-typed_z=1.pkl...\n",
      "dict_keys(['test_data_allvoxel', 'test_noiseceiling_allvoxel', 'train_data_allvoxel', 'train_noiseceiling_allvoxel', 'roi_indices_fullvolume'])\n"
     ]
    },
    {
     "name": "stderr",
     "output_type": "stream",
     "text": [
      "1000it [00:03, 329.26it/s]\n",
      "102it [00:01, 76.96it/s]\n"
     ]
    },
    {
     "name": "stdout",
     "output_type": "stream",
     "text": [
      "Processing BMDgeneral_betas-GLMsingle_type-typed_z=1.pkl...\n",
      "dict_keys(['test_data_allvoxel', 'test_noiseceiling_allvoxel', 'train_data_allvoxel', 'train_noiseceiling_allvoxel', 'roi_indices_fullvolume'])\n"
     ]
    },
    {
     "name": "stderr",
     "output_type": "stream",
     "text": [
      "1000it [00:02, 333.54it/s]\n",
      "102it [00:01, 77.90it/s]\n"
     ]
    },
    {
     "name": "stdout",
     "output_type": "stream",
     "text": [
      "Processing BMDgeneral_betas-GLMsingle_type-typed_z=1.pkl...\n",
      "dict_keys(['test_data_allvoxel', 'test_noiseceiling_allvoxel', 'train_data_allvoxel', 'train_noiseceiling_allvoxel', 'roi_indices_fullvolume'])\n"
     ]
    },
    {
     "name": "stderr",
     "output_type": "stream",
     "text": [
      "1000it [00:03, 322.26it/s]\n",
      "102it [00:01, 76.28it/s]\n"
     ]
    },
    {
     "name": "stdout",
     "output_type": "stream",
     "text": [
      "Processing BMDgeneral_betas-GLMsingle_type-typed_z=1.pkl...\n",
      "dict_keys(['test_data_allvoxel', 'test_noiseceiling_allvoxel', 'train_data_allvoxel', 'train_noiseceiling_allvoxel', 'roi_indices_fullvolume'])\n"
     ]
    },
    {
     "name": "stderr",
     "output_type": "stream",
     "text": [
      "1000it [00:03, 324.42it/s]\n",
      "102it [00:01, 72.30it/s]\n"
     ]
    },
    {
     "name": "stdout",
     "output_type": "stream",
     "text": [
      "Processing BMDgeneral_betas-GLMsingle_type-typed_z=1.pkl...\n",
      "dict_keys(['test_data_allvoxel', 'test_noiseceiling_allvoxel', 'train_data_allvoxel', 'train_noiseceiling_allvoxel', 'roi_indices_fullvolume'])\n"
     ]
    },
    {
     "name": "stderr",
     "output_type": "stream",
     "text": [
      "1000it [00:03, 325.46it/s]\n",
      "102it [00:01, 76.88it/s]\n"
     ]
    },
    {
     "name": "stdout",
     "output_type": "stream",
     "text": [
      "Processing BMDgeneral_betas-GLMsingle_type-typed_z=1.pkl...\n",
      "dict_keys(['test_data_allvoxel', 'test_noiseceiling_allvoxel', 'train_data_allvoxel', 'train_noiseceiling_allvoxel', 'roi_indices_fullvolume'])\n"
     ]
    },
    {
     "name": "stderr",
     "output_type": "stream",
     "text": [
      "1000it [00:03, 328.13it/s]\n",
      "102it [00:01, 78.31it/s]\n"
     ]
    },
    {
     "name": "stdout",
     "output_type": "stream",
     "text": [
      "Processing BMDgeneral_betas-GLMsingle_type-typed_z=1.pkl...\n",
      "dict_keys(['test_data_allvoxel', 'test_noiseceiling_allvoxel', 'train_data_allvoxel', 'train_noiseceiling_allvoxel', 'roi_indices_fullvolume'])\n"
     ]
    },
    {
     "name": "stderr",
     "output_type": "stream",
     "text": [
      "1000it [00:03, 331.01it/s]\n",
      "102it [00:01, 76.19it/s]\n"
     ]
    },
    {
     "name": "stdout",
     "output_type": "stream",
     "text": [
      "Processing BMDgeneral_betas-GLMsingle_type-typed_z=1.pkl...\n",
      "dict_keys(['test_data_allvoxel', 'test_noiseceiling_allvoxel', 'train_data_allvoxel', 'train_noiseceiling_allvoxel', 'roi_indices_fullvolume'])\n"
     ]
    },
    {
     "name": "stderr",
     "output_type": "stream",
     "text": [
      "1000it [00:02, 344.34it/s]\n",
      "102it [00:01, 76.27it/s]\n"
     ]
    },
    {
     "name": "stdout",
     "output_type": "stream",
     "text": [
      "Processing BMDgeneral_betas-GLMsingle_type-typed_z=1.pkl...\n",
      "dict_keys(['test_data_allvoxel', 'test_noiseceiling_allvoxel', 'train_data_allvoxel', 'train_noiseceiling_allvoxel', 'roi_indices_fullvolume'])\n"
     ]
    },
    {
     "name": "stderr",
     "output_type": "stream",
     "text": [
      "1000it [00:02, 339.41it/s]\n",
      "102it [00:01, 75.32it/s]\n"
     ]
    }
   ],
   "source": [
    "bmd_betas_to_indiv_files('../data/betas_impulse', \n",
    "                     rois=['BMDgeneral'])"
   ]
  },
  {
   "cell_type": "code",
   "execution_count": null,
   "metadata": {},
   "outputs": [],
   "source": []
  }
 ],
 "metadata": {
  "kernelspec": {
   "display_name": "base",
   "language": "python",
   "name": "python3"
  },
  "language_info": {
   "codemirror_mode": {
    "name": "ipython",
    "version": 3
   },
   "file_extension": ".py",
   "mimetype": "text/x-python",
   "name": "python",
   "nbconvert_exporter": "python",
   "pygments_lexer": "ipython3",
   "version": "3.9.13"
  },
  "orig_nbformat": 4
 },
 "nbformat": 4,
 "nbformat_minor": 2
}

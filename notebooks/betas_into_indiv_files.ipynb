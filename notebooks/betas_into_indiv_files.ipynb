{
 "cells": [
  {
   "cell_type": "markdown",
   "metadata": {},
   "source": [
    "# Notebook to put all betas into individual pkl files\n"
   ]
  },
  {
   "cell_type": "code",
   "execution_count": 13,
   "metadata": {},
   "outputs": [],
   "source": [
    "import numpy as np\n",
    "import pickle as pkl\n",
    "import os\n",
    "from tqdm import tqdm"
   ]
  },
  {
   "cell_type": "markdown",
   "metadata": {},
   "source": [
    "## Transform NSD betas"
   ]
  },
  {
   "cell_type": "code",
   "execution_count": 14,
   "metadata": {},
   "outputs": [],
   "source": [
    "# Function that loads a pkl file with betas and stores each vector separately\n",
    "\n",
    "def nsd_betas_to_indiv_files(betas_path, \n",
    "                         subs=None, \n",
    "                         rois=None):\n",
    "\n",
    "    if subs is None:\n",
    "        subs = sorted(os.listdir(betas_path))\n",
    "    \n",
    "    for sub in subs:\n",
    "        # Load pickle with ids of stimuli\n",
    "        with open(f'{betas_path}/{sub}/events_imgtag-73k_id.pkl', 'rb') as f:\n",
    "            idxs = pkl.load(f)[0]\n",
    "        print(f'Processing {sub}...')\n",
    "        if rois is None:\n",
    "            rois = sorted([r.split('_')[0] for r in os.listdir(os.path.join(betas_path, sub, 'prepared_allvoxel_pkl'))])\n",
    "        for roi in rois:\n",
    "            roi_pkl = roi+'_betas-GLMsingle_type-typeb_z=1.pkl'\n",
    "            print(f'Processing {roi_pkl}...')\n",
    "            with open(os.path.join(betas_path, sub, 'prepared_allvoxel_pkl', roi_pkl), 'rb') as f:\n",
    "                data = pkl.load(f)\n",
    "            d = data['data_allvoxel']\n",
    "            savedir = os.path.join(betas_path, sub, 'indiv_npys', roi_pkl[:-4])\n",
    "            \n",
    "            # If savedir exists, delete all its contents\n",
    "            if os.path.exists(savedir):\n",
    "                for f in os.listdir(savedir):\n",
    "                    os.remove(os.path.join(savedir, f))\n",
    "            else:\n",
    "                os.makedirs(savedir, exist_ok=True)\n",
    "\n",
    "            for s, stim in tqdm(enumerate(d)):\n",
    "                for r, rep in enumerate(stim):\n",
    "                    npy_name = f'{idxs[s]-1:06d}_{r}.npy' #TODO: Check if indexes match correctly here\n",
    "                    np.save(os.path.join(savedir, npy_name), rep)\n"
   ]
  },
  {
   "cell_type": "code",
   "execution_count": 12,
   "metadata": {},
   "outputs": [
    {
     "name": "stdout",
     "output_type": "stream",
     "text": [
      "Processing sub01...\n",
      "Processing lPPA_betas-GLMsingle_type-typeb_z=1.pkl...\n",
      "73000\n"
     ]
    },
    {
     "name": "stderr",
     "output_type": "stream",
     "text": [
      "0it [00:00, ?it/s]"
     ]
    },
    {
     "name": "stderr",
     "output_type": "stream",
     "text": [
      "10000it [00:02, 3873.01it/s]\n"
     ]
    },
    {
     "name": "stdout",
     "output_type": "stream",
     "text": [
      "Processing rPPA_betas-GLMsingle_type-typeb_z=1.pkl...\n",
      "73000\n"
     ]
    },
    {
     "name": "stderr",
     "output_type": "stream",
     "text": [
      "10000it [00:02, 4220.84it/s]\n"
     ]
    },
    {
     "name": "stdout",
     "output_type": "stream",
     "text": [
      "Processing sub02...\n",
      "Processing lPPA_betas-GLMsingle_type-typeb_z=1.pkl...\n",
      "72974\n"
     ]
    },
    {
     "name": "stderr",
     "output_type": "stream",
     "text": [
      "10000it [00:02, 4407.84it/s]\n"
     ]
    },
    {
     "name": "stdout",
     "output_type": "stream",
     "text": [
      "Processing rPPA_betas-GLMsingle_type-typeb_z=1.pkl...\n",
      "72974\n"
     ]
    },
    {
     "name": "stderr",
     "output_type": "stream",
     "text": [
      "10000it [00:02, 4160.80it/s]\n"
     ]
    },
    {
     "name": "stdout",
     "output_type": "stream",
     "text": [
      "Processing sub03...\n",
      "Processing lPPA_betas-GLMsingle_type-typeb_z=1.pkl...\n",
      "72990\n"
     ]
    },
    {
     "name": "stderr",
     "output_type": "stream",
     "text": [
      "6234it [00:01, 4064.81it/s]\n"
     ]
    },
    {
     "name": "stdout",
     "output_type": "stream",
     "text": [
      "Processing rPPA_betas-GLMsingle_type-typeb_z=1.pkl...\n",
      "72990\n"
     ]
    },
    {
     "name": "stderr",
     "output_type": "stream",
     "text": [
      "6234it [00:01, 4038.98it/s]\n"
     ]
    },
    {
     "name": "stdout",
     "output_type": "stream",
     "text": [
      "Processing sub04...\n",
      "Processing lPPA_betas-GLMsingle_type-typeb_z=1.pkl...\n",
      "72980\n"
     ]
    },
    {
     "name": "stderr",
     "output_type": "stream",
     "text": [
      "5445it [00:01, 4483.18it/s]\n"
     ]
    },
    {
     "name": "stdout",
     "output_type": "stream",
     "text": [
      "Processing rPPA_betas-GLMsingle_type-typeb_z=1.pkl...\n",
      "72980\n"
     ]
    },
    {
     "name": "stderr",
     "output_type": "stream",
     "text": [
      "5445it [00:01, 4386.73it/s]\n"
     ]
    },
    {
     "name": "stdout",
     "output_type": "stream",
     "text": [
      "Processing sub05...\n",
      "Processing lPPA_betas-GLMsingle_type-typeb_z=1.pkl...\n",
      "72994\n"
     ]
    },
    {
     "name": "stderr",
     "output_type": "stream",
     "text": [
      "10000it [00:02, 3942.51it/s]\n"
     ]
    },
    {
     "name": "stdout",
     "output_type": "stream",
     "text": [
      "Processing rPPA_betas-GLMsingle_type-typeb_z=1.pkl...\n",
      "72994\n"
     ]
    },
    {
     "name": "stderr",
     "output_type": "stream",
     "text": [
      "10000it [00:02, 4377.79it/s]\n"
     ]
    },
    {
     "name": "stdout",
     "output_type": "stream",
     "text": [
      "Processing sub06...\n",
      "Processing lPPA_betas-GLMsingle_type-typeb_z=1.pkl...\n",
      "72985\n"
     ]
    },
    {
     "name": "stderr",
     "output_type": "stream",
     "text": [
      "6234it [00:01, 4001.56it/s]\n"
     ]
    },
    {
     "name": "stdout",
     "output_type": "stream",
     "text": [
      "Processing rPPA_betas-GLMsingle_type-typeb_z=1.pkl...\n",
      "72985\n"
     ]
    },
    {
     "name": "stderr",
     "output_type": "stream",
     "text": [
      "6234it [00:01, 4356.83it/s]\n"
     ]
    },
    {
     "name": "stdout",
     "output_type": "stream",
     "text": [
      "Processing sub07...\n",
      "Processing lPPA_betas-GLMsingle_type-typeb_z=1.pkl...\n",
      "72999\n"
     ]
    },
    {
     "name": "stderr",
     "output_type": "stream",
     "text": [
      "10000it [00:02, 4225.86it/s]\n"
     ]
    },
    {
     "name": "stdout",
     "output_type": "stream",
     "text": [
      "Processing rPPA_betas-GLMsingle_type-typeb_z=1.pkl...\n",
      "72999\n"
     ]
    },
    {
     "name": "stderr",
     "output_type": "stream",
     "text": [
      "10000it [00:02, 4457.17it/s]\n"
     ]
    },
    {
     "name": "stdout",
     "output_type": "stream",
     "text": [
      "Processing sub08...\n",
      "Processing lPPA_betas-GLMsingle_type-typeb_z=1.pkl...\n",
      "72997\n"
     ]
    },
    {
     "name": "stderr",
     "output_type": "stream",
     "text": [
      "5445it [00:01, 4082.65it/s]\n"
     ]
    },
    {
     "name": "stdout",
     "output_type": "stream",
     "text": [
      "Processing rPPA_betas-GLMsingle_type-typeb_z=1.pkl...\n",
      "72997\n"
     ]
    },
    {
     "name": "stderr",
     "output_type": "stream",
     "text": [
      "5445it [00:01, 4138.24it/s]\n"
     ]
    }
   ],
   "source": [
    "nsd_betas_to_indiv_files('../data/betas_nsd', rois=['lPPA', 'rPPA'])"
   ]
  },
  {
   "cell_type": "markdown",
   "metadata": {},
   "source": [
    "## Transform BMD betas"
   ]
  },
  {
   "cell_type": "code",
   "execution_count": 15,
   "metadata": {},
   "outputs": [],
   "source": [
    "\n",
    "\n",
    "def bmd_betas_to_indiv_files(betas_path, \n",
    "                             subs=None,\n",
    "                             rois=None):\n",
    "\n",
    "    if subs is None:\n",
    "        subs = sorted(os.listdir(betas_path))\n",
    "    \n",
    "    for sub in subs:\n",
    "        print(f'Processing {sub}...')\n",
    "        if rois is None:\n",
    "            rois = sorted([r.split('_')[0] for r in os.listdir(os.path.join(betas_path, sub, 'prepared_allvoxel_pkl'))])\n",
    "        for roi in rois:\n",
    "            roi_pkl = roi+'_betas-GLMsingle_type-typed_z=1.pkl'\n",
    "            print(f'Processing {roi_pkl}...')\n",
    "            with open(os.path.join(betas_path, sub, 'prepared_allvoxel_pkl', roi_pkl), 'rb') as f:\n",
    "                data = pkl.load(f)\n",
    "\n",
    "            print(data.keys())\n",
    "\n",
    "            # d = np.concatenate([data['train_data_allvoxel'], data['test_data_allvoxel']], axis=0)\n",
    "            d_train = data['train_data_allvoxel']\n",
    "            d_test = data['test_data_allvoxel']\n",
    "            \n",
    "            savedir = os.path.join(betas_path, sub, 'indiv_npys', roi_pkl[:-4])\n",
    "            os.makedirs(savedir, exist_ok=True)\n",
    "            for s, stim in enumerate(d_train):\n",
    "                for r, rep in enumerate(stim):\n",
    "                    npy_name = f'{s+1:04d}_{r}.npy'\n",
    "                    np.save(os.path.join(savedir, npy_name), rep)\n",
    "            for s, stim in enumerate(d_test):\n",
    "                for r, rep in enumerate(stim):\n",
    "                    npy_name = f'{s+1+len(d_train):04d}_{r}.npy'\n",
    "                    np.save(os.path.join(savedir, npy_name), rep)\n"
   ]
  },
  {
   "cell_type": "code",
   "execution_count": 14,
   "metadata": {},
   "outputs": [
    {
     "name": "stdout",
     "output_type": "stream",
     "text": [
      "Processing sub01...\n",
      "Processing lPPA_betas-GLMsingle_type-typed_z=1.pkl...\n",
      "dict_keys(['test_data_allvoxel', 'test_noiseceiling_allvoxel', 'train_data_allvoxel', 'train_noiseceiling_allvoxel', 'roi_indices_fullvolume'])\n",
      "Processing rPPA_betas-GLMsingle_type-typed_z=1.pkl...\n",
      "dict_keys(['test_data_allvoxel', 'test_noiseceiling_allvoxel', 'train_data_allvoxel', 'train_noiseceiling_allvoxel', 'roi_indices_fullvolume'])\n",
      "Processing sub02...\n",
      "Processing lPPA_betas-GLMsingle_type-typed_z=1.pkl...\n",
      "dict_keys(['test_data_allvoxel', 'test_noiseceiling_allvoxel', 'train_data_allvoxel', 'train_noiseceiling_allvoxel', 'roi_indices_fullvolume'])\n",
      "Processing rPPA_betas-GLMsingle_type-typed_z=1.pkl...\n",
      "dict_keys(['test_data_allvoxel', 'test_noiseceiling_allvoxel', 'train_data_allvoxel', 'train_noiseceiling_allvoxel', 'roi_indices_fullvolume'])\n",
      "Processing sub03...\n",
      "Processing lPPA_betas-GLMsingle_type-typed_z=1.pkl...\n",
      "dict_keys(['test_data_allvoxel', 'test_noiseceiling_allvoxel', 'train_data_allvoxel', 'train_noiseceiling_allvoxel', 'roi_indices_fullvolume'])\n",
      "Processing rPPA_betas-GLMsingle_type-typed_z=1.pkl...\n",
      "dict_keys(['test_data_allvoxel', 'test_noiseceiling_allvoxel', 'train_data_allvoxel', 'train_noiseceiling_allvoxel', 'roi_indices_fullvolume'])\n",
      "Processing sub04...\n",
      "Processing lPPA_betas-GLMsingle_type-typed_z=1.pkl...\n",
      "dict_keys(['test_data_allvoxel', 'test_noiseceiling_allvoxel', 'train_data_allvoxel', 'train_noiseceiling_allvoxel', 'roi_indices_fullvolume'])\n",
      "Processing rPPA_betas-GLMsingle_type-typed_z=1.pkl...\n",
      "dict_keys(['test_data_allvoxel', 'test_noiseceiling_allvoxel', 'train_data_allvoxel', 'train_noiseceiling_allvoxel', 'roi_indices_fullvolume'])\n",
      "Processing sub05...\n",
      "Processing lPPA_betas-GLMsingle_type-typed_z=1.pkl...\n",
      "dict_keys(['test_data_allvoxel', 'test_noiseceiling_allvoxel', 'train_data_allvoxel', 'train_noiseceiling_allvoxel', 'roi_indices_fullvolume'])\n",
      "Processing rPPA_betas-GLMsingle_type-typed_z=1.pkl...\n",
      "dict_keys(['test_data_allvoxel', 'test_noiseceiling_allvoxel', 'train_data_allvoxel', 'train_noiseceiling_allvoxel', 'roi_indices_fullvolume'])\n",
      "Processing sub06...\n",
      "Processing lPPA_betas-GLMsingle_type-typed_z=1.pkl...\n",
      "dict_keys(['test_data_allvoxel', 'test_noiseceiling_allvoxel', 'train_data_allvoxel', 'train_noiseceiling_allvoxel', 'roi_indices_fullvolume'])\n",
      "Processing rPPA_betas-GLMsingle_type-typed_z=1.pkl...\n",
      "dict_keys(['test_data_allvoxel', 'test_noiseceiling_allvoxel', 'train_data_allvoxel', 'train_noiseceiling_allvoxel', 'roi_indices_fullvolume'])\n",
      "Processing sub07...\n",
      "Processing lPPA_betas-GLMsingle_type-typed_z=1.pkl...\n",
      "dict_keys(['test_data_allvoxel', 'test_noiseceiling_allvoxel', 'train_data_allvoxel', 'train_noiseceiling_allvoxel', 'roi_indices_fullvolume'])\n",
      "Processing rPPA_betas-GLMsingle_type-typed_z=1.pkl...\n",
      "dict_keys(['test_data_allvoxel', 'test_noiseceiling_allvoxel', 'train_data_allvoxel', 'train_noiseceiling_allvoxel', 'roi_indices_fullvolume'])\n",
      "Processing sub08...\n",
      "Processing lPPA_betas-GLMsingle_type-typed_z=1.pkl...\n",
      "dict_keys(['test_data_allvoxel', 'test_noiseceiling_allvoxel', 'train_data_allvoxel', 'train_noiseceiling_allvoxel', 'roi_indices_fullvolume'])\n",
      "Processing rPPA_betas-GLMsingle_type-typed_z=1.pkl...\n",
      "dict_keys(['test_data_allvoxel', 'test_noiseceiling_allvoxel', 'train_data_allvoxel', 'train_noiseceiling_allvoxel', 'roi_indices_fullvolume'])\n",
      "Processing sub09...\n",
      "Processing lPPA_betas-GLMsingle_type-typed_z=1.pkl...\n",
      "dict_keys(['test_data_allvoxel', 'test_noiseceiling_allvoxel', 'train_data_allvoxel', 'train_noiseceiling_allvoxel', 'roi_indices_fullvolume'])\n",
      "Processing rPPA_betas-GLMsingle_type-typed_z=1.pkl...\n",
      "dict_keys(['test_data_allvoxel', 'test_noiseceiling_allvoxel', 'train_data_allvoxel', 'train_noiseceiling_allvoxel', 'roi_indices_fullvolume'])\n",
      "Processing sub10...\n",
      "Processing lPPA_betas-GLMsingle_type-typed_z=1.pkl...\n",
      "dict_keys(['test_data_allvoxel', 'test_noiseceiling_allvoxel', 'train_data_allvoxel', 'train_noiseceiling_allvoxel', 'roi_indices_fullvolume'])\n",
      "Processing rPPA_betas-GLMsingle_type-typed_z=1.pkl...\n",
      "dict_keys(['test_data_allvoxel', 'test_noiseceiling_allvoxel', 'train_data_allvoxel', 'train_noiseceiling_allvoxel', 'roi_indices_fullvolume'])\n"
     ]
    }
   ],
   "source": [
    "bmd_betas_to_indiv_files('../data/betas_impulse', \n",
    "                     rois=['lPPA', 'rPPA'])"
   ]
  },
  {
   "cell_type": "code",
   "execution_count": 16,
   "metadata": {},
   "outputs": [
    {
     "name": "stdout",
     "output_type": "stream",
     "text": [
      "Processing sub01...\n",
      "Processing Group41_betas-GLMsingle_type-typed_z=1.pkl...\n",
      "dict_keys(['train_data_allvoxel', 'test_data_allvoxel', 'train_noiseceiling_allvoxel', 'test_noiseceiling_allvoxel', 'roi_indices_hcp'])\n",
      "Processing sub02...\n",
      "Processing Group41_betas-GLMsingle_type-typed_z=1.pkl...\n",
      "dict_keys(['train_data_allvoxel', 'test_data_allvoxel', 'train_noiseceiling_allvoxel', 'test_noiseceiling_allvoxel', 'roi_indices_hcp'])\n",
      "Processing sub03...\n",
      "Processing Group41_betas-GLMsingle_type-typed_z=1.pkl...\n",
      "dict_keys(['train_data_allvoxel', 'test_data_allvoxel', 'train_noiseceiling_allvoxel', 'test_noiseceiling_allvoxel', 'roi_indices_hcp'])\n",
      "Processing sub04...\n",
      "Processing Group41_betas-GLMsingle_type-typed_z=1.pkl...\n",
      "dict_keys(['train_data_allvoxel', 'test_data_allvoxel', 'train_noiseceiling_allvoxel', 'test_noiseceiling_allvoxel', 'roi_indices_hcp'])\n",
      "Processing sub05...\n",
      "Processing Group41_betas-GLMsingle_type-typed_z=1.pkl...\n",
      "dict_keys(['train_data_allvoxel', 'test_data_allvoxel', 'train_noiseceiling_allvoxel', 'test_noiseceiling_allvoxel', 'roi_indices_hcp'])\n",
      "Processing sub06...\n",
      "Processing Group41_betas-GLMsingle_type-typed_z=1.pkl...\n",
      "dict_keys(['train_data_allvoxel', 'test_data_allvoxel', 'train_noiseceiling_allvoxel', 'test_noiseceiling_allvoxel', 'roi_indices_hcp'])\n",
      "Processing sub07...\n",
      "Processing Group41_betas-GLMsingle_type-typed_z=1.pkl...\n",
      "dict_keys(['train_data_allvoxel', 'test_data_allvoxel', 'train_noiseceiling_allvoxel', 'test_noiseceiling_allvoxel', 'roi_indices_hcp'])\n",
      "Processing sub08...\n",
      "Processing Group41_betas-GLMsingle_type-typed_z=1.pkl...\n",
      "dict_keys(['train_data_allvoxel', 'test_data_allvoxel', 'train_noiseceiling_allvoxel', 'test_noiseceiling_allvoxel', 'roi_indices_hcp'])\n",
      "Processing sub09...\n",
      "Processing Group41_betas-GLMsingle_type-typed_z=1.pkl...\n",
      "dict_keys(['train_data_allvoxel', 'test_data_allvoxel', 'train_noiseceiling_allvoxel', 'test_noiseceiling_allvoxel', 'roi_indices_hcp'])\n",
      "Processing sub10...\n",
      "Processing Group41_betas-GLMsingle_type-typed_z=1.pkl...\n",
      "dict_keys(['train_data_allvoxel', 'test_data_allvoxel', 'train_noiseceiling_allvoxel', 'test_noiseceiling_allvoxel', 'roi_indices_hcp'])\n"
     ]
    }
   ],
   "source": [
    "# Transform CIFTI betas to indiv files \n",
    "# (cifti betas pickles have the same format as impulse/volumetric betas)\n",
    "\n",
    "bmd_betas_to_indiv_files('../data/betas_cifti_bmd',\n",
    "                            rois=['Group41'])\n",
    "                         "
   ]
  },
  {
   "cell_type": "markdown",
   "metadata": {},
   "source": [
    "## Transform HAD cifti betas"
   ]
  },
  {
   "cell_type": "code",
   "execution_count": 18,
   "metadata": {},
   "outputs": [],
   "source": [
    "\n",
    "def had_betas_to_indiv_files(betas_path, \n",
    "                         subs=None, \n",
    "                         rois=None):\n",
    "    \n",
    "    if subs is None:\n",
    "        subs = sorted(os.listdir(betas_path))\n",
    "\n",
    "    for sub in subs:\n",
    "        print(f'Processing {sub}...')\n",
    "        if rois is None:\n",
    "            rois = sorted([r.split('_')[0] for r in os.listdir(os.path.join(betas_path, sub, 'prepared_allvoxel_pkl'))])\n",
    "        for roi in rois:\n",
    "            roi_pkl = roi+'_betas-GLMsingle_type-typeb_z=1.pkl'\n",
    "            print(f'Processing {roi_pkl}...')\n",
    "            with open(os.path.join(betas_path, sub, 'prepared_allvoxel_pkl', roi_pkl), 'rb') as f:\n",
    "                data = pkl.load(f)\n",
    "            d = data['data_allvoxel']\n",
    "            vid_names = data['stim_order']\n",
    "            savedir = os.path.join(betas_path, sub, 'indiv_npys', roi_pkl[:-4])\n",
    "            os.makedirs(savedir, exist_ok=True)\n",
    "            for s, stim in enumerate(d):\n",
    "                for r, rep in enumerate(stim):\n",
    "                    npy_name = f'{vid_names[s]}.npy'\n",
    "                    np.save(os.path.join(savedir, npy_name), rep)"
   ]
  },
  {
   "cell_type": "code",
   "execution_count": 19,
   "metadata": {},
   "outputs": [
    {
     "name": "stdout",
     "output_type": "stream",
     "text": [
      "Processing sub01...\n",
      "Processing Group41_betas-GLMsingle_type-typeb_z=1.pkl...\n",
      "Processing sub02...\n",
      "Processing Group41_betas-GLMsingle_type-typeb_z=1.pkl...\n",
      "Processing sub03...\n",
      "Processing Group41_betas-GLMsingle_type-typeb_z=1.pkl...\n",
      "Processing sub04...\n",
      "Processing Group41_betas-GLMsingle_type-typeb_z=1.pkl...\n",
      "Processing sub05...\n",
      "Processing Group41_betas-GLMsingle_type-typeb_z=1.pkl...\n",
      "Processing sub06...\n",
      "Processing Group41_betas-GLMsingle_type-typeb_z=1.pkl...\n",
      "Processing sub07...\n",
      "Processing Group41_betas-GLMsingle_type-typeb_z=1.pkl...\n",
      "Processing sub08...\n",
      "Processing Group41_betas-GLMsingle_type-typeb_z=1.pkl...\n",
      "Processing sub09...\n",
      "Processing Group41_betas-GLMsingle_type-typeb_z=1.pkl...\n",
      "Processing sub10...\n",
      "Processing Group41_betas-GLMsingle_type-typeb_z=1.pkl...\n",
      "Processing sub11...\n",
      "Processing Group41_betas-GLMsingle_type-typeb_z=1.pkl...\n",
      "Processing sub12...\n",
      "Processing Group41_betas-GLMsingle_type-typeb_z=1.pkl...\n",
      "Processing sub13...\n",
      "Processing Group41_betas-GLMsingle_type-typeb_z=1.pkl...\n",
      "Processing sub14...\n",
      "Processing Group41_betas-GLMsingle_type-typeb_z=1.pkl...\n",
      "Processing sub15...\n",
      "Processing Group41_betas-GLMsingle_type-typeb_z=1.pkl...\n",
      "Processing sub16...\n",
      "Processing Group41_betas-GLMsingle_type-typeb_z=1.pkl...\n",
      "Processing sub17...\n",
      "Processing Group41_betas-GLMsingle_type-typeb_z=1.pkl...\n",
      "Processing sub18...\n",
      "Processing Group41_betas-GLMsingle_type-typeb_z=1.pkl...\n",
      "Processing sub19...\n",
      "Processing Group41_betas-GLMsingle_type-typeb_z=1.pkl...\n",
      "Processing sub20...\n",
      "Processing Group41_betas-GLMsingle_type-typeb_z=1.pkl...\n",
      "Processing sub21...\n",
      "Processing Group41_betas-GLMsingle_type-typeb_z=1.pkl...\n",
      "Processing sub22...\n",
      "Processing Group41_betas-GLMsingle_type-typeb_z=1.pkl...\n",
      "Processing sub23...\n",
      "Processing Group41_betas-GLMsingle_type-typeb_z=1.pkl...\n",
      "Processing sub24...\n",
      "Processing Group41_betas-GLMsingle_type-typeb_z=1.pkl...\n",
      "Processing sub25...\n",
      "Processing Group41_betas-GLMsingle_type-typeb_z=1.pkl...\n",
      "Processing sub26...\n",
      "Processing Group41_betas-GLMsingle_type-typeb_z=1.pkl...\n",
      "Processing sub27...\n",
      "Processing Group41_betas-GLMsingle_type-typeb_z=1.pkl...\n",
      "Processing sub28...\n",
      "Processing Group41_betas-GLMsingle_type-typeb_z=1.pkl...\n",
      "Processing sub29...\n",
      "Processing Group41_betas-GLMsingle_type-typeb_z=1.pkl...\n",
      "Processing sub30...\n",
      "Processing Group41_betas-GLMsingle_type-typeb_z=1.pkl...\n"
     ]
    }
   ],
   "source": [
    "had_betas_to_indiv_files('../data/betas_cifti_had', \n",
    "                     rois=['Group41'])"
   ]
  },
  {
   "cell_type": "code",
   "execution_count": null,
   "metadata": {},
   "outputs": [],
   "source": []
  }
 ],
 "metadata": {
  "kernelspec": {
   "display_name": "base",
   "language": "python",
   "name": "python3"
  },
  "language_info": {
   "codemirror_mode": {
    "name": "ipython",
    "version": 3
   },
   "file_extension": ".py",
   "mimetype": "text/x-python",
   "name": "python",
   "nbconvert_exporter": "python",
   "pygments_lexer": "ipython3",
   "version": "3.9.13"
  },
  "orig_nbformat": 4
 },
 "nbformat": 4,
 "nbformat_minor": 2
}

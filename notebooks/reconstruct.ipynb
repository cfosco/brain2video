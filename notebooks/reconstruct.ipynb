{
 "cells": [
  {
   "cell_type": "markdown",
   "metadata": {},
   "source": [
    "# Notebook to compute reconstructions and test reconstruction scripts"
   ]
  },
  {
   "cell_type": "code",
   "execution_count": 2,
   "metadata": {},
   "outputs": [
    {
     "name": "stdout",
     "output_type": "stream",
     "text": [
      "The autoreload extension is already loaded. To reload it, use:\n",
      "  %reload_ext autoreload\n"
     ]
    }
   ],
   "source": [
    "import numpy as np\n",
    "import matplotlib.pyplot as plt\n",
    "import sys\n",
    "import os\n",
    "import subprocess\n",
    "\n",
    "%load_ext autoreload\n",
    "%autoreload 2"
   ]
  },
  {
   "cell_type": "code",
   "execution_count": null,
   "metadata": {},
   "outputs": [],
   "source": [
    "# Reconstruct for one or multiple subjects\n",
    "\n",
    "subs = [2,3,4,5,6,7,8,9,10]\n",
    "set = 'test'\n",
    "dataset = 'bmd'\n",
    "\n",
    "project_root = os.path.expanduser('~/Dropbox/Graduate Studies/MIT/Research/brain_reconstruction_project/brain2video/')\n",
    "os.chdir(project_root)\n",
    "\n",
    "for sub in subs:\n",
    "    print(f\"Reconstructing subject {sub}\")\n",
    "    command = [\n",
    "        'python', 'reconstruct_zeroscope_blip.py',\n",
    "        '-d', f'{dataset}',\n",
    "        '-o', f'./reconstructions/{dataset}_final_results_allsubj_sub{sub:02d}_test',\n",
    "        '-s', set,\n",
    "        '-gv',\n",
    "        '--gpu', '0'\n",
    "    ]\n",
    "    subprocess.run(command)"
   ]
  },
  {
   "cell_type": "code",
   "execution_count": 7,
   "metadata": {},
   "outputs": [
    {
     "name": "stdout",
     "output_type": "stream",
     "text": [
      "Copying reconstructions for subject 1\n"
     ]
    }
   ],
   "source": [
    "subs = [1]\n",
    "dataset = 'bmd'\n",
    "\n",
    "project_root = os.path.expanduser('~/Dropbox/Graduate Studies/MIT/Research/brain_reconstruction_project/brain2video/')\n",
    "os.chdir(project_root)\n",
    "\n",
    "# Copy reconstructions/gifs to brain2video_viz_website\n",
    "for sub in subs:\n",
    "    print(f\"Copying reconstructions for subject {sub}\")\n",
    "    dir = f'../brain2video_viz_website/gifs/{dataset}_final_results_allsubj_sub{sub:02d}'\n",
    "    if not os.path.exists(dir):\n",
    "        os.makedirs(dir)\n",
    "    command = [\n",
    "        'scp',\t\n",
    "        '-r',\n",
    "        f'./reconstructions/{dataset}_final_results_allsubj_sub{sub:02d}/gif',\n",
    "        f'../brain2video_viz_website/gifs/{dataset}_final_results_allsubj_sub{sub:02d}'\n",
    "    ]\n",
    "    subprocess.run(command)"
   ]
  },
  {
   "cell_type": "code",
   "execution_count": null,
   "metadata": {},
   "outputs": [],
   "source": []
  }
 ],
 "metadata": {
  "kernelspec": {
   "display_name": "base",
   "language": "python",
   "name": "python3"
  },
  "language_info": {
   "codemirror_mode": {
    "name": "ipython",
    "version": 3
   },
   "file_extension": ".py",
   "mimetype": "text/x-python",
   "name": "python",
   "nbconvert_exporter": "python",
   "pygments_lexer": "ipython3",
   "version": "3.9.13"
  }
 },
 "nbformat": 4,
 "nbformat_minor": 2
}

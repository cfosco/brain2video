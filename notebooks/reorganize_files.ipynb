{
 "cells": [
  {
   "cell_type": "code",
   "execution_count": 1,
   "metadata": {},
   "outputs": [],
   "source": [
    "import os\n",
    "\n",
    "# Define the path to the estimated_vectors directory\n",
    "estimated_vectors_path = \"../estimated_vectors\"\n",
    "\n",
    "target_names = ['blip', 'z_zeroscope', 'c_zeroscope']\n",
    "\n",
    "# Loop through each file in the estimated_vectors directory\n",
    "for folder in os.listdir(estimated_vectors_path):\n",
    "    # Extract the target name from the end of the file name\n",
    "    for t in target_names:\n",
    "        if t in folder:\n",
    "            target_name = t\n",
    "            break\n",
    "    # Create a new directory with the target name if it doesn't already exist\n",
    "    target_dir_path = os.path.join(estimated_vectors_path, target_name)\n",
    "    if not os.path.exists(target_dir_path):\n",
    "        os.mkdir(target_dir_path)\n",
    "        \n",
    "    # Move the folder into the target directory\n",
    "    folder_path = os.path.join(estimated_vectors_path, folder)\n",
    "    target_folder_path = os.path.join(target_dir_path, folder)\n",
    "    os.rename(folder_path, target_folder_path)\n"
   ]
  },
  {
   "cell_type": "code",
   "execution_count": null,
   "metadata": {},
   "outputs": [],
   "source": [
    "# Transform all vectors into their unflattened versions"
   ]
  }
 ],
 "metadata": {
  "kernelspec": {
   "display_name": "base",
   "language": "python",
   "name": "python3"
  },
  "language_info": {
   "codemirror_mode": {
    "name": "ipython",
    "version": 3
   },
   "file_extension": ".py",
   "mimetype": "text/x-python",
   "name": "python",
   "nbconvert_exporter": "python",
   "pygments_lexer": "ipython3",
   "version": "3.9.13"
  }
 },
 "nbformat": 4,
 "nbformat_minor": 2
}

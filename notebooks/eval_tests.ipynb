{
 "cells": [
  {
   "cell_type": "code",
   "execution_count": 5,
   "metadata": {},
   "outputs": [],
   "source": [
    "import numpy as np\n",
    "import sys\n",
    "sys.path.append('../')\n",
    "from utils import compute_metrics\n",
    "\n",
    "%load_ext autoreload\n",
    "%autoreload 2"
   ]
  },
  {
   "cell_type": "code",
   "execution_count": 14,
   "metadata": {},
   "outputs": [
    {
     "name": "stdout",
     "output_type": "stream",
     "text": [
      "SSR: 8\n",
      "SST: 26.875\n",
      "MSE: 1.0\n",
      "MAE: 0.5\n",
      "R2: 0.7023255813953488\n",
      "Correlation: 0.5681090634202128\n",
      "{'mse': 1.0, 'mae': 0.5, 'r2': 0.7023255813953488, 'corr': 0.5681090634202128}\n"
     ]
    }
   ],
   "source": [
    "a = np.array([[1,2,3,1], [4,5,6,1]])\n",
    "b = np.array([[1,2,1,1], [4,5,8,1]])\n",
    "\n",
    "print(compute_metrics(a, b))"
   ]
  },
  {
   "cell_type": "code",
   "execution_count": 3,
   "metadata": {},
   "outputs": [
    {
     "name": "stdout",
     "output_type": "stream",
     "text": [
      "regressor:mlpwithscheduler_fmritype:betas_rois:WB_sub01_z_zeroscope\n",
      "Shape of preds_train.npy: (1000, 65340)\n",
      "regressor:mlpwithscheduleronval_hidden:2048_fmritype:betas_impulse_rois:BMDgeneral_avgtrainreps:False_usensd:True_sub[1]_z_zeroscope_unflattened\n",
      "Shape of 1090.npy: (1, 65340)\n",
      "regressor:mlp_fmritype:betas_rois:hV4-7AL-BA2-PFt-PFop_sub01_z_zeroscope\n",
      "Shape of preds_train.npy: (1000, 65340)\n",
      "regressor:mlpwithscheduleronval_fmritype:betas_impulse_rois:BMDgeneral_avgtrainreps:False_usensd:True_sub[1]_blip\n",
      "Shape of 1090.npy: (1, 173568)\n",
      "regressor:mlpwithscheduler_fmritype:betas_impulse_rois:BMDgeneral_avgtrainreps:False_usensd:False_sub[1]_z_zeroscope_unflattened\n",
      "Shape of 1090.npy: (1, 65340)\n",
      "regressor:swigluwithscheduleronval_hidden:2048_fmritype:betas_impulse_rois:BMDgeneral_avgtrainreps:False_usensd:False_sub[1]_z_zeroscope_unflattened\n",
      "Shape of 1090.npy: (1, 65340)\n",
      "regressor:mlpwithscheduler_fmritype:betas_impulse_rois:BMDgeneral_avgtrainreps:False_sub01_z_zeroscope\n",
      "Shape of preds_train.npy: (3000, 65340)\n",
      "regressor:mlpwithscheduler_fmritype:betas_rois:WB_sub01_blip\n",
      "Shape of preds_train.npy: (1000, 173568)\n",
      "regressor:mlpwithscheduler_fmritype:betas_impulse_rois:BMDgeneral_sub01_z_zeroscope\n",
      "Shape of preds_train.npy: (1000, 65340)\n",
      "regressor:himalaya-ridgewithscheduler_fmritype:betas_impulse_rois:BMDgeneral_avgtrainreps:False_sub01_z_zeroscope\n",
      "Shape of preds_train.npy: (3000, 65340)\n",
      "WB_c_zeroscope\n",
      "Shape of preds_train.npy: (1000, 78848)\n",
      "regressor:swigluwithscheduleronval_hidden:2048_fmritype:betas_impulse_rois:BMDgeneral_avgtrainreps:False_usensd:True_sub[1]_blip\n",
      "Shape of 1090.npy: (1, 173568)\n",
      "regressor:mlp_fmritype:betas_rois:EBA-PPA-FFA-OFA-STS-RSC-TOS-LOC_sub01_c_zeroscope\n",
      "Shape of preds_train.npy: (1000, 78848)\n",
      "regressor:mlpwithscheduleronval_hidden:2048_fmritype:betas_impulse_rois:BMDgeneral_avgtrainreps:False_usensd:False_sub[1]_z_zeroscope_unflattened\n",
      "Shape of 1090.npy: (1, 65340)\n",
      "regressor:mlp_fmritype:betas_rois:WB_sub01_c_zeroscope\n",
      "Shape of preds_train.npy: (1000, 78848)\n",
      "regressor:mlpwithscheduler_fmritype:betas_impulse_rois:BMDgeneral_avgtrainreps:False_usensd:True_sub[1]_z_zeroscope_unflattened\n",
      "Shape of 1090.npy: (1, 65340)\n",
      "regressor:mlpwithscheduler_fmritype:betas_impulse_rois:BMDgeneral_avgtrainreps:False_usensd:True_sub01_z_zeroscope\n"
     ]
    },
    {
     "ename": "ValueError",
     "evalue": "Cannot load file containing pickled data when allow_pickle=False",
     "output_type": "error",
     "traceback": [
      "\u001b[0;31m---------------------------------------------------------------------------\u001b[0m",
      "\u001b[0;31mValueError\u001b[0m                                Traceback (most recent call last)",
      "\u001b[0;32m/tmp/ipykernel_1513636/4246497425.py\u001b[0m in \u001b[0;36m<module>\u001b[0;34m\u001b[0m\n\u001b[1;32m     10\u001b[0m     \u001b[0mfile\u001b[0m \u001b[0;34m=\u001b[0m \u001b[0mos\u001b[0m\u001b[0;34m.\u001b[0m\u001b[0mlistdir\u001b[0m\u001b[0;34m(\u001b[0m\u001b[0mos\u001b[0m\u001b[0;34m.\u001b[0m\u001b[0mpath\u001b[0m\u001b[0;34m.\u001b[0m\u001b[0mjoin\u001b[0m\u001b[0;34m(\u001b[0m\u001b[0mpath\u001b[0m\u001b[0;34m,\u001b[0m \u001b[0mdir\u001b[0m\u001b[0;34m)\u001b[0m\u001b[0;34m)\u001b[0m\u001b[0;34m[\u001b[0m\u001b[0;36m0\u001b[0m\u001b[0;34m]\u001b[0m\u001b[0;34m\u001b[0m\u001b[0;34m\u001b[0m\u001b[0m\n\u001b[1;32m     11\u001b[0m     \u001b[0;31m# load the target vector from the file\u001b[0m\u001b[0;34m\u001b[0m\u001b[0;34m\u001b[0m\u001b[0m\n\u001b[0;32m---> 12\u001b[0;31m     \u001b[0mtarget_vector\u001b[0m \u001b[0;34m=\u001b[0m \u001b[0mnp\u001b[0m\u001b[0;34m.\u001b[0m\u001b[0mload\u001b[0m\u001b[0;34m(\u001b[0m\u001b[0mos\u001b[0m\u001b[0;34m.\u001b[0m\u001b[0mpath\u001b[0m\u001b[0;34m.\u001b[0m\u001b[0mjoin\u001b[0m\u001b[0;34m(\u001b[0m\u001b[0mpath\u001b[0m\u001b[0;34m,\u001b[0m \u001b[0mdir\u001b[0m\u001b[0;34m,\u001b[0m \u001b[0mfile\u001b[0m\u001b[0;34m)\u001b[0m\u001b[0;34m)\u001b[0m\u001b[0;34m\u001b[0m\u001b[0;34m\u001b[0m\u001b[0m\n\u001b[0m\u001b[1;32m     13\u001b[0m     \u001b[0;31m# print the shape of the target vector\u001b[0m\u001b[0;34m\u001b[0m\u001b[0;34m\u001b[0m\u001b[0m\n\u001b[1;32m     14\u001b[0m     \u001b[0mprint\u001b[0m\u001b[0;34m(\u001b[0m\u001b[0;34mf\"Shape of {file}: {target_vector.shape}\"\u001b[0m\u001b[0;34m)\u001b[0m\u001b[0;34m\u001b[0m\u001b[0;34m\u001b[0m\u001b[0m\n",
      "\u001b[0;32m~/anaconda3/lib/python3.9/site-packages/numpy/lib/npyio.py\u001b[0m in \u001b[0;36mload\u001b[0;34m(file, mmap_mode, allow_pickle, fix_imports, encoding)\u001b[0m\n\u001b[1;32m    416\u001b[0m             \u001b[0;31m# Try a pickle\u001b[0m\u001b[0;34m\u001b[0m\u001b[0;34m\u001b[0m\u001b[0m\n\u001b[1;32m    417\u001b[0m             \u001b[0;32mif\u001b[0m \u001b[0;32mnot\u001b[0m \u001b[0mallow_pickle\u001b[0m\u001b[0;34m:\u001b[0m\u001b[0;34m\u001b[0m\u001b[0;34m\u001b[0m\u001b[0m\n\u001b[0;32m--> 418\u001b[0;31m                 raise ValueError(\"Cannot load file containing pickled data \"\n\u001b[0m\u001b[1;32m    419\u001b[0m                                  \"when allow_pickle=False\")\n\u001b[1;32m    420\u001b[0m             \u001b[0;32mtry\u001b[0m\u001b[0;34m:\u001b[0m\u001b[0;34m\u001b[0m\u001b[0;34m\u001b[0m\u001b[0m\n",
      "\u001b[0;31mValueError\u001b[0m: Cannot load file containing pickled data when allow_pickle=False"
     ]
    }
   ],
   "source": [
    "import numpy as np\n",
    "import os\n",
    "\n",
    "# set the path to the target_vectors directory\n",
    "path = '../estimated_vectors'\n",
    "\n",
    "# loop through each file in the directory\n",
    "for dir in os.listdir(path):\n",
    "    print(dir)\n",
    "    file = os.listdir(os.path.join(path, dir))[0]\n",
    "    # load the target vector from the file\n",
    "    target_vector = np.load(os.path.join(path, dir, file))\n",
    "    # print the shape of the target vector\n",
    "    print(f\"Shape of {file}: {target_vector.shape}\")\n"
   ]
  },
  {
   "cell_type": "code",
   "execution_count": 4,
   "metadata": {},
   "outputs": [
    {
     "ename": "ModuleNotFoundError",
     "evalue": "No module named 'regress'",
     "output_type": "error",
     "traceback": [
      "\u001b[0;31m---------------------------------------------------------------------------\u001b[0m",
      "\u001b[0;31mModuleNotFoundError\u001b[0m                       Traceback (most recent call last)",
      "\u001b[0;32m/tmp/ipykernel_1513636/1057190758.py\u001b[0m in \u001b[0;36m<module>\u001b[0;34m\u001b[0m\n\u001b[0;32m----> 1\u001b[0;31m \u001b[0;32mfrom\u001b[0m \u001b[0mregress\u001b[0m \u001b[0;32mimport\u001b[0m \u001b[0meval_and_save\u001b[0m\u001b[0;34m\u001b[0m\u001b[0;34m\u001b[0m\u001b[0m\n\u001b[0m\u001b[1;32m      2\u001b[0m \u001b[0;34m\u001b[0m\u001b[0m\n",
      "\u001b[0;31mModuleNotFoundError\u001b[0m: No module named 'regress'"
     ]
    }
   ],
   "source": [
    "from regress import eval_and_save\n",
    "\n",
    "# Test eval_and_save\n",
    "\n",
    "\n"
   ]
  },
  {
   "cell_type": "code",
   "execution_count": null,
   "metadata": {},
   "outputs": [],
   "source": []
  }
 ],
 "metadata": {
  "kernelspec": {
   "display_name": "base",
   "language": "python",
   "name": "python3"
  },
  "language_info": {
   "codemirror_mode": {
    "name": "ipython",
    "version": 3
   },
   "file_extension": ".py",
   "mimetype": "text/x-python",
   "name": "python",
   "nbconvert_exporter": "python",
   "pygments_lexer": "ipython3",
   "version": "3.9.13"
  }
 },
 "nbformat": 4,
 "nbformat_minor": 2
}

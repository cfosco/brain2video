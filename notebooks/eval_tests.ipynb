{
 "cells": [
  {
   "cell_type": "code",
   "execution_count": 10,
   "metadata": {},
   "outputs": [],
   "source": [
    "import numpy as np\n",
    "import sys\n",
    "sys.path.append('../')\n",
    "from utils import compute_metrics\n",
    "\n",
    "%load_ext autoreload\n",
    "%autoreload 2"
   ]
  },
  {
   "cell_type": "code",
   "execution_count": 14,
   "metadata": {},
   "outputs": [
    {
     "name": "stdout",
     "output_type": "stream",
     "text": [
      "SSR: 8\n",
      "SST: 26.875\n",
      "MSE: 1.0\n",
      "MAE: 0.5\n",
      "R2: 0.7023255813953488\n",
      "Correlation: 0.5681090634202128\n",
      "{'mse': 1.0, 'mae': 0.5, 'r2': 0.7023255813953488, 'corr': 0.5681090634202128}\n"
     ]
    }
   ],
   "source": [
    "a = np.array([[1,2,3,1], [4,5,6,1]])\n",
    "b = np.array([[1,2,1,1], [4,5,8,1]])\n",
    "\n",
    "print(compute_metrics(a, b))"
   ]
  },
  {
   "cell_type": "code",
   "execution_count": null,
   "metadata": {},
   "outputs": [],
   "source": []
  }
 ],
 "metadata": {
  "kernelspec": {
   "display_name": "base",
   "language": "python",
   "name": "python3"
  },
  "language_info": {
   "codemirror_mode": {
    "name": "ipython",
    "version": 3
   },
   "file_extension": ".py",
   "mimetype": "text/x-python",
   "name": "python",
   "nbconvert_exporter": "python",
   "pygments_lexer": "ipython3",
   "version": "3.9.13"
  }
 },
 "nbformat": 4,
 "nbformat_minor": 2
}

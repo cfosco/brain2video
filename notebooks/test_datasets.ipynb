{
 "cells": [
  {
   "cell_type": "code",
   "execution_count": 21,
   "metadata": {},
   "outputs": [],
   "source": [
    "import os\n",
    "import sys\n",
    "import numpy as np\n",
    "\n",
    "sys.path.append('../')\n",
    "from utils import load_all_fmri_for_subject\n",
    "from dataloaders import NSDImageDataset"
   ]
  },
  {
   "cell_type": "code",
   "execution_count": 23,
   "metadata": {},
   "outputs": [
    {
     "name": "stdout",
     "output_type": "stream",
     "text": [
      "[[[212 212 204]\n",
      "  [205 205 197]\n",
      "  [203 203 195]\n",
      "  ...\n",
      "  [138 142 125]\n",
      "  [144 144 128]\n",
      "  [109 103  91]]\n",
      "\n",
      " [[205 205 197]\n",
      "  [200 200 192]\n",
      "  [200 200 192]\n",
      "  ...\n",
      "  [138 144 133]\n",
      "  [147 154 145]\n",
      "  [ 99 107 102]]\n",
      "\n",
      " [[204 204 196]\n",
      "  [200 200 192]\n",
      "  [201 201 193]\n",
      "  ...\n",
      "  [139 148 138]\n",
      "  [105 118 114]\n",
      "  [160 174 180]]\n",
      "\n",
      " ...\n",
      "\n",
      " [[113  93  85]\n",
      "  [140 109  82]\n",
      "  [172 126  71]\n",
      "  ...\n",
      "  [156 157 181]\n",
      "  [174 177 184]\n",
      "  [190 177 164]]\n",
      "\n",
      " [[117  98  90]\n",
      "  [140 109  84]\n",
      "  [171 125  78]\n",
      "  ...\n",
      "  [144 146 164]\n",
      "  [180 182 185]\n",
      "  [199 184 168]]\n",
      "\n",
      " [[120 101  90]\n",
      "  [139 108  84]\n",
      "  [174 128  82]\n",
      "  ...\n",
      "  [149 154 163]\n",
      "  [177 179 181]\n",
      "  [204 187 178]]]\n"
     ]
    },
    {
     "ename": "NameError",
     "evalue": "name 'load_img_from_arr' is not defined",
     "output_type": "error",
     "traceback": [
      "\u001b[0;31m---------------------------------------------------------------------------\u001b[0m",
      "\u001b[0;31mNameError\u001b[0m                                 Traceback (most recent call last)",
      "\u001b[0;32m/tmp/ipykernel_1686203/10156008.py\u001b[0m in \u001b[0;36m<module>\u001b[0;34m\u001b[0m\n\u001b[1;32m      1\u001b[0m \u001b[0mnsd_dataset\u001b[0m \u001b[0;34m=\u001b[0m \u001b[0mNSDImageDataset\u001b[0m\u001b[0;34m(\u001b[0m\u001b[0mnsd_path\u001b[0m\u001b[0;34m=\u001b[0m\u001b[0;34m'../../StableDiffusionReconstruction/nsd'\u001b[0m\u001b[0;34m)\u001b[0m\u001b[0;34m\u001b[0m\u001b[0;34m\u001b[0m\u001b[0m\n\u001b[1;32m      2\u001b[0m \u001b[0;34m\u001b[0m\u001b[0m\n\u001b[0;32m----> 3\u001b[0;31m \u001b[0mprint\u001b[0m\u001b[0;34m(\u001b[0m\u001b[0mnsd_dataset\u001b[0m\u001b[0;34m[\u001b[0m\u001b[0;36m0\u001b[0m\u001b[0;34m]\u001b[0m\u001b[0;34m.\u001b[0m\u001b[0mshape\u001b[0m\u001b[0;34m)\u001b[0m\u001b[0;34m\u001b[0m\u001b[0;34m\u001b[0m\u001b[0m\n\u001b[0m",
      "\u001b[0;32m~/Dropbox/Graduate Studies/MIT/Research/brain_reconstruction_project/brain2video/notebooks/../dataloaders.py\u001b[0m in \u001b[0;36m__getitem__\u001b[0;34m(self, idx)\u001b[0m\n\u001b[1;32m     53\u001b[0m         \u001b[0;32mif\u001b[0m \u001b[0mself\u001b[0m\u001b[0;34m.\u001b[0m\u001b[0mtransform\u001b[0m\u001b[0;34m:\u001b[0m\u001b[0;34m\u001b[0m\u001b[0;34m\u001b[0m\u001b[0m\n\u001b[1;32m     54\u001b[0m             \u001b[0mimg\u001b[0m \u001b[0;34m=\u001b[0m \u001b[0mself\u001b[0m\u001b[0;34m.\u001b[0m\u001b[0mtransform\u001b[0m\u001b[0;34m(\u001b[0m\u001b[0mimg\u001b[0m\u001b[0;34m)\u001b[0m\u001b[0;34m\u001b[0m\u001b[0;34m\u001b[0m\u001b[0m\n\u001b[0;32m---> 55\u001b[0;31m \u001b[0;34m\u001b[0m\u001b[0m\n\u001b[0m\u001b[1;32m     56\u001b[0m         \u001b[0;32mreturn\u001b[0m \u001b[0mimg\u001b[0m\u001b[0;34m\u001b[0m\u001b[0;34m\u001b[0m\u001b[0m\n\u001b[1;32m     57\u001b[0m \u001b[0;34m\u001b[0m\u001b[0m\n",
      "\u001b[0;31mNameError\u001b[0m: name 'load_img_from_arr' is not defined"
     ]
    }
   ],
   "source": [
    "nsd_dataset = NSDImageDataset(nsd_path='../../StableDiffusionReconstruction/nsd')\n",
    "\n",
    "print(nsd_dataset[0].shape)"
   ]
  },
  {
   "cell_type": "code",
   "execution_count": 17,
   "metadata": {},
   "outputs": [],
   "source": []
  },
  {
   "cell_type": "code",
   "execution_count": null,
   "metadata": {},
   "outputs": [],
   "source": []
  }
 ],
 "metadata": {
  "kernelspec": {
   "display_name": "base",
   "language": "python",
   "name": "python3"
  },
  "language_info": {
   "codemirror_mode": {
    "name": "ipython",
    "version": 3
   },
   "file_extension": ".py",
   "mimetype": "text/x-python",
   "name": "python",
   "nbconvert_exporter": "python",
   "pygments_lexer": "ipython3",
   "version": "3.9.13"
  }
 },
 "nbformat": 4,
 "nbformat_minor": 2
}

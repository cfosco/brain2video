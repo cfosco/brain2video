{
 "cells": [
  {
   "cell_type": "code",
   "execution_count": 44,
   "metadata": {},
   "outputs": [
    {
     "name": "stdout",
     "output_type": "stream",
     "text": [
      "The autoreload extension is already loaded. To reload it, use:\n",
      "  %reload_ext autoreload\n"
     ]
    }
   ],
   "source": [
    "import os\n",
    "import sys\n",
    "import numpy as np\n",
    "\n",
    "sys.path.append('../')\n",
    "from utils import load_all_fmri_for_subject\n",
    "from dataset import *\n",
    "\n",
    "%load_ext autoreload\n",
    "%autoreload 2"
   ]
  },
  {
   "cell_type": "markdown",
   "metadata": {},
   "source": [
    "## Test NSD Datasets"
   ]
  },
  {
   "cell_type": "code",
   "execution_count": 18,
   "metadata": {},
   "outputs": [
    {
     "name": "stdout",
     "output_type": "stream",
     "text": [
      "13 72999\n",
      "72999\n"
     ]
    }
   ],
   "source": [
    "nsd_dataset = NSDImageDataset(plot=False,\n",
    "                                nsd_path='../../StableDiffusionReconstruction/nsd',\n",
    "                                sub='sub01')\n",
    "\n",
    "print(max(nsd_dataset.idxs))"
   ]
  },
  {
   "cell_type": "code",
   "execution_count": 42,
   "metadata": {},
   "outputs": [
    {
     "name": "stdout",
     "output_type": "stream",
     "text": [
      "dataset len: 60000\n",
      "loading sub02/indiv_npys/BMDgeneral_betas-GLMsingle_type-typeb_z=1/000005_1.npy\n",
      "shape of betas in BMDgeneral (16346,)\n",
      "loading sub02/indiv_npys/lPPA_betas-GLMsingle_type-typeb_z=1/000005_1.npy\n",
      "shape of betas in lPPA (171,)\n",
      "loading sub02/indiv_npys/rPPA_betas-GLMsingle_type-typeb_z=1/000005_1.npy\n",
      "shape of betas in rPPA (123,)\n",
      "loading 000005.npy\n",
      "betas.shape (16640,)\n",
      "targets.shape (4, 33, 33)\n",
      "betas.max() 4.253573782362932\n",
      "betas.min() -3.5273368078234792\n",
      "targets.max() 2.785\n",
      "targets.min() -2.809\n"
     ]
    }
   ],
   "source": [
    "\n",
    "betas_path = '../data/betas_nsd'\n",
    "targets_path = '../data/target_vectors_nsd/z_zeroscope_unflattened'\n",
    "\n",
    "nsd_bt_dataset = NSDBetasAndTargetsDataset( \n",
    "                 betas_path, \n",
    "                 targets_path, \n",
    "                 avg_reps=False, \n",
    "                 rois=['BMDgeneral','lPPA','rPPA'],\n",
    "                 subs=[1,2],\n",
    "                 subset='train')\n",
    "print(\"dataset len:\", len(nsd_bt_dataset))\n",
    "betas, targets = nsd_bt_dataset[30007]\n",
    "print('betas.shape',betas.shape)\n",
    "print('targets.shape',targets.shape)\n",
    "print('betas.max()',betas.max())\n",
    "print('betas.min()',betas.min())\n",
    "print('targets.max()',targets.max())\n",
    "print('targets.min()',targets.min())"
   ]
  },
  {
   "cell_type": "markdown",
   "metadata": {},
   "source": [
    "## Test BMD Datasets"
   ]
  },
  {
   "cell_type": "code",
   "execution_count": 55,
   "metadata": {},
   "outputs": [
    {
     "name": "stdout",
     "output_type": "stream",
     "text": [
      "1020\n",
      "(16346,) (173568,)\n",
      "3.941730546873685 -3.6130260817140742 3.1705143 -6.416951\n"
     ]
    }
   ],
   "source": [
    "\n",
    "betas_path = '../data/betas_impulse'\n",
    "targets_path = '../data/target_vectors/blip'\n",
    "\n",
    "bmd_bt_dataset = BMDBetasAndTargetsDataset( \n",
    "                 betas_path, \n",
    "                 targets_path, \n",
    "                 avg_reps=False, \n",
    "                 beta_type='impulse',\n",
    "                 rois=['BMDgeneral'],\n",
    "                 subs=[1],\n",
    "                 subset='test')\n",
    "\n",
    "print(len(bmd_bt_dataset))\n",
    "\n",
    "betas, targets = bmd_bt_dataset[3]\n",
    "print(betas.shape, targets.shape)\n",
    "\n",
    "print(betas.max(), betas.min(), targets.max(), targets.min())"
   ]
  },
  {
   "cell_type": "markdown",
   "metadata": {},
   "source": [
    "## Test concatenating both BMD and NSD datasets"
   ]
  },
  {
   "cell_type": "code",
   "execution_count": 9,
   "metadata": {},
   "outputs": [
    {
     "ename": "IndexError",
     "evalue": "list index out of range",
     "output_type": "error",
     "traceback": [
      "\u001b[0;31m---------------------------------------------------------------------------\u001b[0m",
      "\u001b[0;31mIndexError\u001b[0m                                Traceback (most recent call last)",
      "\u001b[0;32m/tmp/ipykernel_503806/2855377772.py\u001b[0m in \u001b[0;36m<module>\u001b[0;34m\u001b[0m\n\u001b[1;32m      5\u001b[0m \u001b[0;34m\u001b[0m\u001b[0m\n\u001b[1;32m      6\u001b[0m \u001b[0;34m\u001b[0m\u001b[0m\n\u001b[0;32m----> 7\u001b[0;31m \u001b[0mbetas\u001b[0m\u001b[0;34m,\u001b[0m \u001b[0mtargets\u001b[0m \u001b[0;34m=\u001b[0m \u001b[0mbmd_bt_dataset\u001b[0m\u001b[0;34m[\u001b[0m\u001b[0;36m1000\u001b[0m\u001b[0;34m]\u001b[0m\u001b[0;34m\u001b[0m\u001b[0;34m\u001b[0m\u001b[0m\n\u001b[0m\u001b[1;32m      8\u001b[0m \u001b[0mprint\u001b[0m\u001b[0;34m(\u001b[0m\u001b[0mbetas\u001b[0m\u001b[0;34m.\u001b[0m\u001b[0mshape\u001b[0m\u001b[0;34m,\u001b[0m \u001b[0mtargets\u001b[0m\u001b[0;34m.\u001b[0m\u001b[0mshape\u001b[0m\u001b[0;34m)\u001b[0m\u001b[0;34m\u001b[0m\u001b[0;34m\u001b[0m\u001b[0m\n\u001b[1;32m      9\u001b[0m \u001b[0;34m\u001b[0m\u001b[0m\n",
      "\u001b[0;32m~/Dropbox/Graduate Studies/MIT/Research/brain_reconstruction_project/brain2video/notebooks/../dataset.py\u001b[0m in \u001b[0;36m__getitem__\u001b[0;34m(self, idx)\u001b[0m\n\u001b[1;32m    251\u001b[0m \u001b[0;34m\u001b[0m\u001b[0m\n\u001b[1;32m    252\u001b[0m     \u001b[0;32mdef\u001b[0m \u001b[0m__getitem__\u001b[0m\u001b[0;34m(\u001b[0m\u001b[0mself\u001b[0m\u001b[0;34m,\u001b[0m \u001b[0midx\u001b[0m\u001b[0;34m)\u001b[0m\u001b[0;34m:\u001b[0m\u001b[0;34m\u001b[0m\u001b[0;34m\u001b[0m\u001b[0m\n\u001b[0;32m--> 253\u001b[0;31m         \u001b[0;32mreturn\u001b[0m \u001b[0mself\u001b[0m\u001b[0;34m.\u001b[0m\u001b[0mbetas\u001b[0m\u001b[0;34m[\u001b[0m\u001b[0midx\u001b[0m\u001b[0;34m]\u001b[0m\u001b[0;34m,\u001b[0m \u001b[0mself\u001b[0m\u001b[0;34m.\u001b[0m\u001b[0mtargets\u001b[0m\u001b[0;34m[\u001b[0m\u001b[0midx\u001b[0m\u001b[0;34m]\u001b[0m\u001b[0;34m\u001b[0m\u001b[0;34m\u001b[0m\u001b[0m\n\u001b[0m\u001b[1;32m    254\u001b[0m \u001b[0;34m\u001b[0m\u001b[0m\n\u001b[1;32m    255\u001b[0m \u001b[0;34m\u001b[0m\u001b[0m\n",
      "\u001b[0;31mIndexError\u001b[0m: list index out of range"
     ]
    }
   ],
   "source": [
    "# concatenate both \n",
    "from torch.utils.data import ConcatDataset\n",
    "\n",
    "concat_dataset = ConcatDataset([nsd_bt_dataset, bmd_bt_dataset])\n",
    "\n",
    "\n",
    "betas, targets = bmd_bt_dataset[1000]\n",
    "print(betas.shape, targets.shape)\n",
    "\n",
    "print(betas.max(), betas.min(), targets.max(), targets.min())"
   ]
  },
  {
   "cell_type": "markdown",
   "metadata": {},
   "source": []
  }
 ],
 "metadata": {
  "kernelspec": {
   "display_name": "base",
   "language": "python",
   "name": "python3"
  },
  "language_info": {
   "codemirror_mode": {
    "name": "ipython",
    "version": 3
   },
   "file_extension": ".py",
   "mimetype": "text/x-python",
   "name": "python",
   "nbconvert_exporter": "python",
   "pygments_lexer": "ipython3",
   "version": "3.9.13"
  }
 },
 "nbformat": 4,
 "nbformat_minor": 2
}

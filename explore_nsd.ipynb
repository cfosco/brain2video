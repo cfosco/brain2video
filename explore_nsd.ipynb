{
 "cells": [
  {
   "cell_type": "markdown",
   "metadata": {},
   "source": [
    "# Notebook to explore NSD data and analyze fmri / other features made by Takagi et al."
   ]
  },
  {
   "cell_type": "code",
   "execution_count": 3,
   "metadata": {},
   "outputs": [],
   "source": [
    "import numpy as np\n",
    "import os\n"
   ]
  },
  {
   "cell_type": "code",
   "execution_count": 7,
   "metadata": {},
   "outputs": [
    {
     "name": "stdout",
     "output_type": "stream",
     "text": [
      "(9841,)\n",
      "(27750,)\n"
     ]
    }
   ],
   "source": [
    "# Check npy fmris\n",
    "\n",
    "path_to_takagi_fmri = '../StableDiffusionReconstruction/mrifeat/'\n",
    "\n",
    "# Load the npy data\n",
    "subj01_stims_ave = np.load(os.path.join(path_to_takagi_fmri, 'subj01' ,'subj01_stims_ave.npy'))\n",
    "subj01_stims = np.load(os.path.join(path_to_takagi_fmri, 'subj01' ,'subj01_stims.npy'))\n",
    "\n",
    "print(subj01_stims_ave.shape)\n",
    "print(subj01_stims.shape)"
   ]
  },
  {
   "cell_type": "code",
   "execution_count": null,
   "metadata": {},
   "outputs": [],
   "source": []
  }
 ],
 "metadata": {
  "kernelspec": {
   "display_name": "base",
   "language": "python",
   "name": "python3"
  },
  "language_info": {
   "codemirror_mode": {
    "name": "ipython",
    "version": 3
   },
   "file_extension": ".py",
   "mimetype": "text/x-python",
   "name": "python",
   "nbconvert_exporter": "python",
   "pygments_lexer": "ipython3",
   "version": "3.8.3"
  },
  "orig_nbformat": 4
 },
 "nbformat": 4,
 "nbformat_minor": 2
}
